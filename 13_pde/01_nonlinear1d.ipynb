{
 "cells": [
  {
   "cell_type": "raw",
   "metadata": {},
   "source": [
    "Text provided under a Creative Commons Attribution license, CC-BY.  All code is made available under the FSF-approved BSD-3 license.  (c) Lorena A. Barba, Gilbert F. Forsyth 2017. Thanks to NSF for support via CAREER award #1149784."
   ]
  },
  {
   "cell_type": "markdown",
   "metadata": {},
   "source": [
    "[@LorenaABarba](https://twitter.com/LorenaABarba)"
   ]
  },
  {
   "cell_type": "markdown",
   "metadata": {},
   "source": [
    "12 steps to Navier–Stokes\n",
    "======\n",
    "***"
   ]
  },
  {
   "cell_type": "markdown",
   "metadata": {},
   "source": [
    "This Jupyter notebook continues the presentation of the **12 steps to Navier–Stokes**, the practical module taught in the interactive CFD class of [Prof. Lorena Barba](http://lorenabarba.com). You should have completed [Step 1](./01_Step_1.ipynb) before continuing, having written your own Python script or notebook and having experimented with varying the parameters of the discretization and observing what happens.\n"
   ]
  },
  {
   "cell_type": "markdown",
   "metadata": {},
   "source": [
    "Step 2: Nonlinear Convection\n",
    "-----\n",
    "***"
   ]
  },
  {
   "cell_type": "markdown",
   "metadata": {},
   "source": [
    "Now we're going to implement nonlinear convection using the same methods as in step 1.  The 1D convection equation is:\n",
    "\n",
    "$$\\frac{\\partial u}{\\partial t} + u \\frac{\\partial u}{\\partial x} = 0$$\n",
    "\n",
    "Instead of a constant factor $c$ multiplying the second term, now we have the solution $u$ multiplying it. Thus, the second term of the equation is now *nonlinear*. We're going to use the same discretization as in Step 1 — forward difference in time and backward difference in space. Here is the discretized equation.\n",
    "\n",
    "$$\\frac{u_i^{n+1}-u_i^n}{\\Delta t} + u_i^n \\frac{u_i^n-u_{i-1}^n}{\\Delta x} = 0$$\n",
    "\n",
    "Solving for the only unknown term, $u_i^{n+1}$, yields:\n",
    "\n",
    "$$u_i^{n+1} = u_i^n - u_i^n \\frac{\\Delta t}{\\Delta x} (u_i^n - u_{i-1}^n)$$"
   ]
  },
  {
   "cell_type": "markdown",
   "metadata": {},
   "source": [
    "As before, the Python code starts by loading the necessary libraries. Then, we declare some variables that determine the discretization in space and time (you should experiment by changing these parameters to see what happens). Then, we create the initial condition $u_0$ by initializing the array for the solution using $u = 2\\ @\\ 0.5 \\leq x \\leq 1$  and $u = 1$ everywhere else in $(0,2)$ (i.e., a hat function)."
   ]
  },
  {
   "cell_type": "code",
   "execution_count": 1,
   "metadata": {},
   "outputs": [
    {
     "data": {
      "image/png": "[encoded data removed]",
      "text/plain": [
       "<Figure size 432x288 with 1 Axes>"
      ]
     },
     "metadata": {
      "needs_background": "light"
     },
     "output_type": "display_data"
    }
   ],
   "source": [
    "import numpy\n",
    "from matplotlib import pyplot\n",
    "from matplotlib import animation, rc\n",
    "from IPython.display import HTML\n",
    "%matplotlib inline\n",
    "\n",
    "\n",
    "nx = 41\n",
    "dx = 2 / (nx - 1)\n",
    "nt = 20    #number of timesteps we want to calculate\n",
    "dt = .025  #amount of time each timestep covers (delta t)\n",
    "\n",
    "x = numpy.linspace(0, 2, nx)\n",
    "u = numpy.ones(nx)\n",
    "u[int(.5 / dx) : int(1 / dx + 1)] = 2\n",
    "fig, ax = pyplot.subplots()\n",
    "line, = ax.plot(x, u)"
   ]
  },
  {
   "cell_type": "markdown",
   "metadata": {},
   "source": [
    "\n",
    "$$\\frac{u_i^{n+1}-u_i^n}{\\Delta t} + u_i^n \\frac{u_i^n-u_{i-1}^n}{\\Delta x} = 0$$\n",
    "\n",
    "Solving for the only unk \n",
    "nown term, $u_i^{n+1}$, yields:\n",
    "\n",
    "$$u_i^{n+1} = u_i^n - u_i^n \\frac{\\Delta t}{\\Delta x} (u_i^n - u_{i-1}^n)$$"
   ]
  },
  {
   "cell_type": "markdown",
   "metadata": {},
   "source": [
    "The code snippet below is *unfinished*. We have copied over the line from [Step 1](./01_Step_1.ipynb) that executes the time-stepping update. Can you edit this code to execute the nonlinear convection instead?"
   ]
  },
  {
   "cell_type": "code",
   "execution_count": 2,
   "metadata": {
    "collapsed": false,
    "jupyter": {
     "outputs_hidden": false
    }
   },
   "outputs": [
    {
     "data": {
      "text/html": [
       "<video width=\"432\" height=\"288\" controls autoplay loop>\n",
       "  <source type=\"video/mp4\" src=\"data:video/mp4;base64,AAAAHGZ0eXBNNFYgAAACAGlzb21pc28yYXZjMQAAAAhmcmVlAAAwXG1kYXQAAAKtBgX//6ncRem9\n",
       "5tlIt5Ys2CDZI+7veDI2NCAtIGNvcmUgMTU5IHIyOTk5IDI5NjQ5NGEgLSBILjI2NC9NUEVHLTQg\n",
       "QVZDIGNvZGVjIC0gQ29weWxlZnQgMjAwMy0yMDIwIC0gaHR0cDovL3d3dy52aWRlb2xhbi5vcmcv\n",
       "eDI2NC5odG1sIC0gb3B0aW9uczogY2FiYWM9MSByZWY9MyBkZWJsb2NrPTE6MDowIGFuYWx5c2U9\n",
       "MHgzOjB4MTEzIG1lPWhleCBzdWJtZT03IHBzeT0xIHBzeV9yZD0xLjAwOjAuMDAgbWl4ZWRfcmVm\n",
       "PTEgbWVfcmFuZ2U9MTYgY2hyb21hX21lPTEgdHJlbGxpcz0xIDh4OGRjdD0xIGNxbT0wIGRlYWR6\n",
       "b25lPTIxLDExIGZhc3RfcHNraXA9MSBjaHJvbWFfcXBfb2Zmc2V0PS0yIHRocmVhZHM9NiBsb29r\n",
       "YWhlYWRfdGhyZWFkcz0xIHNsaWNlZF90aHJlYWRzPTAgbnI9MCBkZWNpbWF0ZT0xIGludGVybGFj\n",
       "ZWQ9MCBibHVyYXlfY29tcGF0PTAgY29uc3RyYWluZWRfaW50cmE9MCBiZnJhbWVzPTMgYl9weXJh\n",
       "bWlkPTIgYl9hZGFwdD0xIGJfYmlhcz0wIGRpcmVjdD0xIHdlaWdodGI9MSBvcGVuX2dvcD0wIHdl\n",
       "aWdodHA9MiBrZXlpbnQ9MjUwIGtleWludF9taW49NSBzY2VuZWN1dD00MCBpbnRyYV9yZWZyZXNo\n",
       "PTAgcmNfbG9va2FoZWFkPTQwIHJjPWNyZiBtYnRyZWU9MSBjcmY9MjMuMCBxY29tcD0wLjYwIHFw\n",
       "bWluPTAgcXBtYXg9NjkgcXBzdGVwPTQgaXBfcmF0aW89MS40MCBhcT0xOjEuMDAAgAAAD9tliIQA\n",
       "E//+97GPgU3IAA2XOop6H+EVsfSQUXqx2aBk6gAAAwAAiYGOFkC1uVpxUAAA48P/R/gAJ0BCh1aw\n",
       "9Bg/0JxRpZqeolmT+zNyAjboG0sdeFNHhrytMJJNr3cJHGrR4emvBMhglrQObnNO3SCYPW6JZzNC\n",
       "RUUXhkd9AwubU1fugceZtzHtIRNB0k7+baBcInQCIrVqudvfgfKyao6vNIOh193/fEVWbLVdnaG0\n",
       "15BKGW9v8bX0Vk2BYrmxGy8MRGrEBS8R5SZGCi7dhxg3/vWY1fMBEJZ4f8s7UDnt1RnWYorzM6lO\n",
       "aeYOdxKrdqpv1WvuM2knIlkvcrHq7sNoHOxUPmlKTJ3SjfG22in8IPBShUHb8ejPJAASyt7BjQEx\n",
       "3H4AQhlNuf8aqD2FWyMd1UNpiwsbRQHo5Wy9GuP/3jRLZRXi4bkZ1ohQ5Sgz79UsaqpoNK2TEWrQ\n",
       "nlOu61mV8cKmdkWlyCLp8Rvw2FVv+v5QM5TJS44VH7+IsGRCN4vupZKwxD90s4WSKYhIGVgI9Fr2\n",
       "l2gW3Qh5HrMbk9lx8GxuIq/mAaLePPgJ4U6cb8qyg3G295wp4MLaEs0sgVavwgv9b23oHBDmc/65\n",
       "ygPvoc4a+9BS951L0hXOduQ4ZVmWKVFrwtbIzt9f0s/e6WXmcdylRHUrHeVodX8oxH0oBKjPrJff\n",
       "BuopfwRNjBRwX8fnMUgr10FU7wE1BpnYC5ENJU3wKhy+p6Odz0uxBwMnmfireV+mA/chxasTUbeF\n",
       "n3saR8JRvPzF8D28a9ZgJsXOSibWxw5HeXorgvYHt3SLgLsEw0VKLTXOvrtDX4JYrS7vJur+NKhf\n",
       "vpyFg+lOQmp9AZfghxHHkFyQGdED+u5EuKvdY+QOs6kCbBTrqE94jqM9zO4pmJE2xPVZ6HZok+lP\n",
       "87iOfTaSIdvjingkvG4tmj+77vsVGze952oWFHvTc6YxekGkZLzzXVqlb+2XmcXdGmv8TvP68uav\n",
       "o1kuioCbuh/VEGtwwlbEh6+TKU0CtbzPN8fgx6air6+TIPZ4+ic00lC4CasRUvj7V4UsTtvTHcjQ\n",
       "CduG+BzKpb0s/F+0KELWzf8wdo8ik/c7Np+kxJOSdnEiN466BzBmYlE8HdN6gkRiwC2Oav95k8l1\n",
       "wja5sU9TtP2w3V+XpJPZoLESDNfZpcHVAKl/hsGxw/nKASK9biys6L7hP0qKCdn4zbUAkjH9drhT\n",
       "tlwZPp/p2U7DTyRAfWqeQS+BANJlvuiuRUER1zbgjxuc75GVT0t+NchAzfMOq5dCFYKgyOAeFgFZ\n",
       "JZwILgROkjQtfs0aEngh0BxjL/GLr038KkdnEtzGGxkAhMdkQhabozy0MtCRFO2t1LZDvGOq7r9n\n",
       "/C6IinB2tdGfJ7RbjIXPqQiag+clq6FYfrAGgT6GOhoj8d4YQfKrIbyABPn7t8ssOkROap5qlL1f\n",
       "M+JlR6MVBWAP2VTb1YAJWJrC8r8Hn0ajMzW+gpairx+2QSAy1zWlpbxxr3HUsjz+9nW+3Epb5pxn\n",
       "x9A6ZnQwTfwHvc5oJlBWW/2s/y1ooIl/6Sa/ma/tEPU7n3KXWjcv3AlmdkYJFQGXbKBwIz8vHX9E\n",
       "J+sm55eAxC7rttY+mVMsGjaUJJ8orO/e+asLhi6nc+7/CPQLSUoY6GHobvmfd+ABl7Ta5n1kZ/ux\n",
       "a7uqvjbZ+PwDMm1rzvguenuxsiyRB6X5wycuq79mIau7EYwUPKSJhJJn6Z1y78zEYyQnmEbPT+rU\n",
       "vpuObfSiqS1y4cnHJFioev9EBtoAllTYiepz9/mDnbOVXQ0O5uO5Akja5mjC/GdvlLqLDdFt7R5Z\n",
       "91LgF4lcGEChplnfmKc9tZRnPPXmhidqet+wShAv6K8vKJ9F/BJUq1CK5kTEaG0KfAgDhU4YG9iO\n",
       "lrBdVOSrctgacDbNerXoWy5XN9T5vKPl5blu1fO5F27f6FFEkiufX7hNu+mBQ8Z0DSgJ4k02Exis\n",
       "JT7yCU5/TsElXgeHFayhpKeGIUcetHBeuUVaSezwo21yucDQ/INzvSm+vFmOOtHNNGm0jRX0RzE2\n",
       "FDBof9i4/bzNt9KLpHz4wdHNrDKhER8ACmd2F2lUAJIpF4mSRES7VuAA+siKjSaJ8Gt76EC11nKj\n",
       "FNh8M9BOslJNb/X5H1aEIGhJ7k7YGwfudPE+fnbYSecfqIclx7/b+busoLLetjIElUnre+8jHHhz\n",
       "9S/3pnZSrtW5fZ9M9aN8v8/vff672gWcswyBL419praUz6oJyNQvdd6wUBfHlqVlspLhTHhjNMuC\n",
       "WkJrTxaT+aeHgrcuygpgs9d48cnwW6DhyihWzTc0g3JgOWhl8kr4z54EYqIef0v3OPGY+E+1i24B\n",
       "QX5iu4C0wmlIuPvl8AlGDs08NyerGsxT6VDhuqZvsqBUO2iikM3AuQ8NChuS6KSublprtM21d1Aw\n",
       "irgTnP0JRvoWbtlNbKZPdy3O4K9UsHfmCGHLPlkzTItHHuY6yCjU09SpLOhnfcW+Tt6+vH1u+lke\n",
       "O7EbbMfc3dZKwCbs6ZjJmE0UmxAfJFf9aGDM8nJR+KdsuPZ0QzmlFOxVTrbL0raKhbnDodorNN21\n",
       "yNpd96/nbw1iP9yZxfvcvNiXW0yDws2DLf4kH0ObsV3PVfFY1x194Onm9iLaFxgc7H5180F800i0\n",
       "5UZmeB4WtjXdWW3Rjkka+Ydwr/xvSgBdl6aVfXxSzuLjMjmvLqthgaa+rXPJRv07+bg/yWd9gSuE\n",
       "L0BBn0xKbt4QDY95OAt8HVLEhqDGmuFVkGlm0AlpPdkvsHuykm57ZF8J6QuXMK10hmq+p6C9c4Il\n",
       "w1bnIhiqs2fNrFfRtOfUKPqjKB/N/MnG7ICQNSptZD5Idf1HxGvRt3S7RTwHWBHT+HB1LtxSFDDq\n",
       "tneen6lkXqkNtoFmbtXf7Vn4HbBbJIQjLD6rMwqQMGooTOek9wD+vsOS79LsFdWdTScs+XrLiwri\n",
       "rCt4uoghZWt5jOMATb2Ws8V0+XS3TRDyKbwIUOKKuffX2ptuG0HDP//n/vrplhsBILQmTOQOZInA\n",
       "awWVhoEalkP9HjpkBjgAt0qV5vUMmR+/FASc1IlNcQuOjzzNr/5hKh4nHUoE5k74/B37Yio4J5fv\n",
       "nFeSJ5KDByvpEh+cFwsk0vHGKRxYgyZTtlMoKV1ncmv8A46tPnRHOdanmjGwcmV/LS4xoHQGgG+d\n",
       "kGpaG33ZhBNPZoBu7iL9E8sMMH0j5PoeBYVTo42yYr8WasU9yINIYqcMElO8YLMlowVOvCGNotKR\n",
       "oUqp6lWXqYWEwSQPp/8lgNNoCH4Ww3GgYz2QSL2rlc0wpZ3XST4GSDl3V1ff7phByOnIR79sJQzb\n",
       "RADGTAh/m6Wf3xDYeFKvsLH3eCYtC7UmfzvfpOY44/cenx2XuQlDTRJF5PyPkyagOS5bCIahygo6\n",
       "zWe/V/mAxgb1Rda4vdE5s+cVbb6xwqFk7Nk3sihfgj39EANkx/LCEoTgkYZuofbm2F8DEVKHa2ti\n",
       "bH0KADt7w29xFlkUfjevZIy0Oys57qwMRnvdpPDRmeV9A/dbYVjpuXR7bXD6NuXp69PfXHte1nju\n",
       "H9V9DNW/X7svGnb44U4T+CBt0iVT2msKvt2zX+YLc2lVejvbzBUvRJ+67nPXPqf/qmiJtJWDK22v\n",
       "XWlYfQ/jwmHfG60+2pdar6QUZGfHpNMre3YSmHRQea+2b1XC/y/9E++XCJiC7mRdregej1p2MujF\n",
       "pe/IsBSIgNb8xTdo7DrkuTwO4jxoFUztbp2IbjBPeaH7Ok8pB64s14oKrkPNzbzO4pHtJDEc+aZT\n",
       "+tlZgt/lXXMmVgd1WflbJ29D6YkDDI2fGnoQvBcdE6R6OnJaXTQMFXdbu0+d8Ge6WyetOYF8ZeSb\n",
       "HnhigzYOLYw1hSUu8E0iheWPzoxqG5QbP038pZtJbHrUFbJHMwzJtXHsn3kaBE2WyN1poyh7EvRL\n",
       "zNT369UAlzZ8AJgi5+7EcwQX9iGe6wntr6a8W9buhpZja98l8u4Gy/R3m0+tsXiKmryaXjSIIQ8Z\n",
       "qeQWeSmv3cw5vxFPZYc2bnYeIiyUY/TOiR1KOQEWl8M+XPx2pOsiWQWXQDLdZ82qh7ByraXxoFaV\n",
       "f0L0oAXI/vTMiLkK+lEOfhXqiUxRjFV9ihfCSF/zOkG62PtLH9MByrUt7cxcUZ++eXlFzZIlk7++\n",
       "o/oybqzLfgRgDydJ4LbpCw//WeA9HbOC1SWgiFtq+/1xGmD0Rs5LpPDJQ+1vgaoEYh7jbsB0OzZX\n",
       "/MebRbJYwwwmfSDmHxibGbuH66VFiVq5T1moN7nWkTfm5aPPaZq5+aJr8lY3TfQIRQGRhLE9NOsu\n",
       "c7BYtzIylLx5x3zG0tEQMgzgEvtkjXxplGMZHFAZ1j+lDIdfBRDTE1eElJji0fV1K8Bf6Q2g7aol\n",
       "bE/eqz7ZlQH42k19vpxkeRKsk5iLe4OkeTA+yLjjDTEohXYVAE1HwIoxHFK9a/gQov5eStI8cuJD\n",
       "sBqYl4iSMaYRlfvKcFkVyN2sqkDGJXPA3UodD9tS9ZcX4+ivO7DobEY6B1h/exJ4HAcErB/GbikY\n",
       "TXIXSgbgHfGbUKYHwA0qye2OtLtYkRUMh4/IAd9no5GtoLE/E5klreFH8h0rzMG+6rhE0HfrvzYG\n",
       "jmX2P4d/9b+QiAGhGR1meq6UI4+yUJAmWTDhXp9cb1Arep3b15cfAVt8rQIvwkKLP0JuVBdiCAAY\n",
       "1x8WaXQmz7VtVTpkPGv+WvIRAmpJvsvV7jXPV4+n0NqPGZ/+cW8aB+j1Nux28eQXkR/lOVy0/yoJ\n",
       "vO6RLq6TN/P+dVCJ3VZGK+9fEW8J508/auLf5QCMRExW0S1a+x9NsYhljLZdQMrP+kK5ihx+TEf/\n",
       "Vu0kTAxIgUe1nTX/rzGND2DeBwtyLchdan1HObLrwtGRWRNAqUfEt00di+N4ei2LtJDzWt3gBP93\n",
       "IbfjP8mf8BLTkYgaqHA/AOd2e/BIkzIjC3ZSy/D6QYLPN+cEHPQ3AFCHujeP2SYH6NhpjZhlACHj\n",
       "RMs7KXzm/1DdY6mH9FJ+qhmkGDuIwMRYsyp2MRfMCa1eBfQzUu4SljnsGZup8zRE1J1Xl8WnB6et\n",
       "Rr///aLkljnk+Q/vpVBmXTQewQieayhfxZ2ZsdtYFolDyYRxhPdTLnmAW5zm+wdWyG/b+IFE/ei3\n",
       "H2BC3fwU07ngpVivpHSQdbokytpXVtXghD4fcFi3ERSnWNdGusgykk/HrI97ZUqK8eujxB0+f8u9\n",
       "99+pRttrdG1ObJZqqqPYmUpq9MthGYKznphdYWHeBzhFHH3X0jJ8XBd/G3ARnqr8Y566/NUmK4hw\n",
       "Pcg1iDL8QvGTjR+JpQYqqeaZhV3+laKWuJOHzMUUyf9BCN4jF0d5tlJzmfwhe8cFbCrEc1L+liBF\n",
       "OjLxTAC1CKkAAANoQZojbEEv/rUqgBp/ZGwnuhdB+Q+obhgAHaY/n8GZGCe4KLJqphtqcNyfOfHD\n",
       "9rgaR0YL+Xf/j50xfwbT2To0DcKwhpexEBSv66p3QIi+H1ltFitnlp2jU+e/hMmQEN3wZgPhuY1I\n",
       "CGDIpxpN7dh91usn5AJI7uoJboiKPmclEy6vZmcnHwXSl31/h6Hkm/c4jWFBkhrreHx3R40ukjy6\n",
       "yUgE+jo5PdZPZSAbbdK7c6MAmgjz+u/PcNNe4eX0TAVD/j8pi4AvIJJlKGZ8pk3VxZ10zcKhm801\n",
       "1czKmzemame1Qkb4zMW6H5xEVpWbmpNVvYGUs0gdLgPFJx6A2uYeX+FnRPwevJJD18AQao0YrxtK\n",
       "M0JGbh4tDWE9EqUW6FXvDLCUrj7U30YKx2HoFheBLPfbAEAAmj0xY8otL5LNHxKOwW6Iwu/fDfE6\n",
       "blSBliMCRQmmKFPig6coNf0aWNd8TLlkeYwdb+yOIIrPXnnXuq8fMbI13Xy+9feCfe+ygjs+u+JL\n",
       "INfw56GT/qw0uKcL1fvajCwD7kh8xPrjf5648Rc7wKdif/2EFC9z9ORPloPZBdW6ZrSXRzFm+Fll\n",
       "3f/J25p56RCinpnQ0C/57FaFGPjxI6GhwSR4GH6o9m4b3lL3WF01+ZaboL+1OFwkjoJmFxTcL46s\n",
       "k1ZV2wZvaw7S7u1mDkywgexwr/z381RsPWuuDkVyCKeu42fpfATIx9DkJzMxqkTL50C+Lpi9FrSR\n",
       "CCA/cP8prNcbiBdnPOBZFRlgFWYhdWOw6aQn7MCNPUEJ6696hzTTJtIeFX73nEw2ve6npq/CuK5f\n",
       "+NLnSy0kRVOrADb5ThlFapubKcFlG7VVfO2mwiBIIQ+UvlkFF7HBwC/x6o/YyLhK9qpuoIvIhzy+\n",
       "90LIHv84WQk86vFBlTZl8j9qYBGFisV6bWAdwfgyst/tcF88aDZoawmy5Ip6BBIcUABB0b6On8EI\n",
       "IjPvXE/d0SeDd+0Mqk9aTyXUUn4LUtlWAebCSlTqGr8MrHR2835jK3mcrdG0YKk+S5IqOWass2Pj\n",
       "Sxig25mW7TAZjZQMxLwL7r96QeckQlS/KHsJE2fG3lsN/Rl8w+rAaia2Qy3B0WjRTy8cMntZZCfl\n",
       "QwRutY4fqGiR8ZEqzWYKoqKSxw7il7QJyjHCSCwAAAHLQZ5BeIIfAB457edT6TW5mHItABspBIPR\n",
       "1QKPRJg6dYBQdiR8/QtC8Ym8lzoVWlm2LEhfb9M6V9KWCdsrTp30MDLCIhUy1darCOgPGk4PbeEz\n",
       "kH6xZP9fosmn4MQmddM+K3CAA6yi6F1iXLfOQKQJg+ZKo039Cn3MQ7LpnwGbQBYXuDx6rGenjmAU\n",
       "yIWh0Yym3K6/Wcg99lZyu2tXU7fP0XOwMFjgyKPp83+E8rwXUYoF9q17pZMdwQ8Zw9Q9ejVDuS/W\n",
       "ilLrvFa1uAg+4goO9FbscbQ08WrkaHfJgU4K6rZ6TOxtkmDMZ3ivcpaA66ybrOMswixptGm3H5lo\n",
       "K8rRZrXbI2xrp9vzNApZ43vQwA+H/kr4SBWNki9wNOxFmDQoUNaLyLniHsftNk0uOD6oy+GaTbNa\n",
       "rFGZnuaa70DHg/Z+LUO7MnaD1ifCRis/9qvM2bUz0kvp+Ts0YqiWudqkFVmnrpg6X6xeK++4mH7q\n",
       "9BuZA0BRTYqoRFmCO+gt5nbZ6unEP/BAQs2maI+WIRstdBlK+bFLkXkHKSVLeZ40aYoGbHdgKHTd\n",
       "B1mKUDUSypJkdyB472CzC5ci9u14/Z+dj7ypySO1/3iWzY7tAAABcQGeYmpD/wBAEPw0f0AH8pq6\n",
       "Ey+enLhAhrKWmNagLMATHUSPhHs/Ag8gaeY+cZf6qVQDGzPGXdRiRu0ZcvEnjE2htoyye9B17eqz\n",
       "XIQFJJCVEbZbUtqwsa3nRBWqCgq1Zytk6nlfuZ0RDmNPWq1+8to4wzTkPeJSeCDGRNp9I/Sn/N5u\n",
       "X97zcKuIJU/6kOEfaaeBXVc+MD4x6JlBP85avA4aKRinFSiOs3oVWy4nlDTBWRxGsHCGTqcEusLs\n",
       "qZfAmS9lW50Bb3Mam3KU3A+mBUbpftuAVaP4HarCDX6z1qfkJEh/poOHiC/orHA4IhEl7uJcSiql\n",
       "p5RdhHuNPlskgGjMoCgkp9d9NupjxIYvQCJcjOxtol1EfFqUeoYnAgTTohNg866L+uTvWXCkIEBk\n",
       "WblvQOQgsjqkSpVsM9pnwxi1w3skjQn/hPyJgv5fphb9r+QA8FsBJCJMS4jan+HW5B74Z73DqRA8\n",
       "w5rzEUHVSHBnwAAAAc5BmmRJqEFomUwIJ//+tSqAGHp7VRQ7AAc3UyrWG5TrHgz3ivJw8W7sS4vs\n",
       "yXZs3NB3FVcUViwXkcFM9hjEmX/8I60HmuWl0YcJalWFkSAsbN9iZxPIAL6HayybI4xkDJMWfX/F\n",
       "utfbL63GyaZ5QN6w9RP0+UK2dgdRR6lhv9trFT+wVuNiyi0nmJK0o3Lt9/dd4zpIxT1j68XRrILC\n",
       "P8nbqpPGtFKifs6ffMBIXRsJoO/C/p9BM6xUH+gEqPY6v1jJUvC258RHP0Vpw+SphnRIcho6CSil\n",
       "Tb+ODIbG9+4endSvrIn9aG9IfcBAtnHQtNVFYuikLP3MgOaeyxwo1iMPsu9r3dyiuo3ZxGSqGBjN\n",
       "WzkArX46r2UwR7sEs4rYQi2gjIdXEcDopWo4a88nTnSQgRL4ztumdX5Fij0VqFVEjFSHRdP/bpBF\n",
       "r1967XzQnsQjirf35RU3SAER+1pBosYa8tE6g/zddu/Rkrti+jni5q9rguME3sMEAErEOiYXNIy3\n",
       "0om2UDKO27JYgSQJ6EgOVI43LJNsylJPM7j+9CzhNVd8MEaZjet8q81g+QZVN/IuTDSqi8xnBr/3\n",
       "AHl/0jorD8oxdWYApQtKJPpSY0EAAAGHQZqHSeEKUmUwIJf//rUqgBiPevITRmYYRZVAA7Q6ri9g\n",
       "0I+Ay9bpdDaQBq/AeSX0Ox/7hEkVH5zKIecJ8Dq5kdT00gD3FtbmfYWKAs/gocJVtG/8FA0GmZk/\n",
       "dXK8RZx99jSHXINJBwp/qahamQoJCeR4p153wlzfenoKclgF2Ee2p8g48HNymVSyyr2xKaDSsenP\n",
       "wm39x+F81r+CPK5TANBrBTK5LT6fyVzST0Zz7x3AYYVHxuDVQC9IkFgvn4eWXq5t7saZOpcJny/Z\n",
       "oM5++QouIly+iDXvrjZK0nzEb98ibU7GjFavpSt2MbAWKSk3/Mn6dcntN/SlPmEZoE8WaVstMD9G\n",
       "wez+mLPp50H2LUPf8tbFvr2bG2sYnJ54Xm15HgAm36htbonJOrVsiW/hngbiuevTYGAxsp7WahgM\n",
       "DgUL/ww4a33MU5OaGgzXGxhvQHAby9pxcmjHRvPzIyZWgsHwTW/fS/QafS6z5SOKG/CSElquJIPE\n",
       "HQJR20lBXtpYlFU8PTNwoQAAAaNBnqVFNEwQ/wAc0WLN7/bAugA8Vdz6SWrQuhty5Bl7DIPMKlyi\n",
       "tqRwIPvqrtQzf3hPRREeAmuJRaWbO0h9/RhKZy15cB4YkVZJlUhyMhgrftTPE9X4RZ8aaUrQgpW4\n",
       "2ja2kTZtnrLGKsSVGZ423DiNEMBoqRKStHm3FnvTlKRNlcgE7YOkJTKJE54OoVS5bIVNYUjI4JqY\n",
       "tgg5YtKdwCVl2pRrc/ZTHbEvRAv4bMWjA9bERUZHJdnHlGw2opkoibPMx7jY0Gc4KOmh2ZEAoPqU\n",
       "p2xAOuo2KzZiAxrtsrtO6gP095BsFgpQCtn05U2lbrWLX/csHMLAwRVabsAyUhyypXGEOY2AzfWG\n",
       "9SnX+ysR0scdrmW8unsOuVWMXx0AHqto8tRRszxym3kBZu9quMhJ5KgYuWM2Eaj2Zlnt7sJmFzYN\n",
       "pj4GFfH71twTnjNoEICKYTmy7miUXPm3YlqNt/UXlfK+Y26z96qReUvAHBcoiL85m5kmbySpNDE4\n",
       "28osxBD7ieGywOnJD4vFb8HEthgYYtumO3+wGJsG3syTnAG8IizR0QAAAVMBnsZqQ/8APb5yvXHl\n",
       "QypnKvQEgQATiW/dOEP1A5+HNzNG2QuTB0mcTkbbKYCTZk7lT/dOonE5IpZdCAl1qftm3Z7Tpt48\n",
       "7YiVAYZXmSQHoD7bqhqJcp222CuW04QSbmCCaHkWvb9Mp9qe2Fx+XvpHc+RVt68/NOZPV3itHM9S\n",
       "SFb3a75a6QmHMGVcpQnCMfOpGikdXxo3X0Y0SnKJ94RCEeEOD7YgeS56JPKaeCtkRpcnj1DNXTM+\n",
       "B7AwfvejjptoR1qza0RlRZwplXhorHZnPSJcMKMEMLMA16RrR3n5cqrMTpykTa2tKByupRQfMGDg\n",
       "uL3oz56QLuSeq073vp7fiEZHVr1ktQzGXYaGb6QdUZONJGiMRXhaSof8CueAq9TUB7dXitpuHwNg\n",
       "SuuSXCHEyNFS2uVIQepkavn2U4Ix4n9nhNd92S8vB5tga6SUZbZlixkAAAF+QZrISahBaJlMCCf/\n",
       "/rUqgBbEKJ03XABL2pk6V3UeNQCz1aUS96zXUczPIgpL+waH5SeFdxfe661AKsy18svT8Jll1Tu1\n",
       "GsT/eyBtyjQAuPbMYaG6uKRhpedEdWknSKTRksl7ouonVAEz4J6JdmASgytvYqLMPY7rhQD77idz\n",
       "u+JHkRsrJUm4Nwc5TxRPT4e5lcCiRLiQHAR+XjR14yCgWMzcN3AEq5Raxgz/TpuPxY95J6LRjfCW\n",
       "RuRo2DNBbIGSxV3rMZf2z/qv/+bCCGx7H0FAf8+mZ4e42fnbyB+8rjpchYrb72SGUaVyrd88mBKm\n",
       "pzhN+16qwZjAJwXSWj1Om+07cOT8QyXPuyZkd0rvYiAq4h/CpJe/FF5Snm6SqVsgGhBd2OQbcEse\n",
       "czoYFPghTAXddC4AJJDULqZ14CsnqJsEl1R6+POw7dbYi96WYSEt475Tu8X1aw4HjPvKv4uu+QIm\n",
       "RjJk15HGmDzLHpj8NCVghgX3sDNzlyETIvMT0AAAAi1BmutJ4QpSZTAgl//+tSqAFu+dY5A58pFO\n",
       "AEtN95DcaI+k+3ge8Lc9r7wgi7gOSQDm6xJuQ0EewsPrHJcE1tQSM8GT7H/JDfZ0VX4c005/AKsO\n",
       "COQe2rVelxHtJIpRBZ8z4i3KThQpHN+yZhHeFVcMVA872fiHHslIRocmJrPVExrJ9fY4Ia2j5Z9n\n",
       "+/owTcx/u6j2EjEWuowuTVybNlUCEY1i6xpGehw46ifizzrnV+KwGWAmA0DW9rOv38seBWERhyfs\n",
       "TNU+vCi8AUYNFpSmKIJNgP2ezb3Te5A95W1MpS+6IZwagxQyg3ZzuRPIXgzn/nkbIMGdGGnUVixh\n",
       "wS+EsrfmGcQySIRlGR5jliVEItnOARdckRgZX1MRQVHqCnbquS4x+MAZj6syHbulv+gOHrDNEAP5\n",
       "KtfDHv+UjTJ33cxpwT7jjgOyW9lrK3ePmAaanWfh37Uo9aAJLJ+hsMRGIlrUC6S21jAfXVp1a3ID\n",
       "Z+EQSpJzl1MzCuk/5IIn4JzEchJabemD1NMgoGjAaV1663NdXi3/3QWJ0Smp4QaOF+0kI30TwUFD\n",
       "OGkBCKkAf7PDzOv4Uq3esBU2XtXx4tWu/g0073uf/guZuksalZHER+TnYuub5+v1Hnhwcgx9pKIp\n",
       "7LHwI98Xzj3XtMS3VPS6vxVKIWb4ASPDHnWvh05KvchY27kh/95h2BrEMzUwqBIDKmGSRQ9F3fLS\n",
       "2pBd9F6FOGVfDzpb9mG6U5ii0AAAAZNBnwlFNEwQ/wAbehwGPKB7mVJzxYH2XTyIADY8Meue/3dz\n",
       "eOQ5WOBzXQ8/NJvCvMGYSTWXUfcljJOFc21TZjGWcXYZhwRk/a0MpxEPqX5wXXgPBML9cRD5x84n\n",
       "o3zVy5uRb4CYvnwQPM4vmDb6/EwfB2zo///0kxG5zOoOe1JObQakWZm3uvUN9qGPaGexikK9ALR7\n",
       "//I7cd+NU+E8LzfxIyhrBqEpYKjISpIqtXf/2JE8ZtbF7KEPF02HFVoWOr3tkE6FVsQepIGFkMfa\n",
       "G5KhfpGO1gylaN+QJllQfGx+hYbBEw/DtewibTL8ekzkuFROKETE4iPYnHDBFKyabHPxmflqq5AP\n",
       "ozHW6C+c/p9ldtVA25hMzwh/4qX0wUU1tASuBCXBz6FBYiQrQ46ZBJPUt3UGsJ2pTzNq8MkqdK/t\n",
       "cNXbeMFnqFaWJrbp67qqFknO3bUGNbeW6pNRqJHsW5vWan2kYyCUiEkWe3XPDB4TW6ZWZOjzakJ8\n",
       "I6Yb416D5dBAUlmjWcAXiYQyGVyjM7QJafyBAAABRgGfKmpD/wA7HMaHSgAnLWXG61COkam9/fJS\n",
       "CYmrLqx6kVXNEOGn8qiZF/rabQ0xY4/1f4mxt4TFEPihnTnt/K9730XYm247AgjnXOXORU4l+m56\n",
       "f3ZtXozZzsGNQ8kXQXMbSrBF908k1A2fR8ecd1mzYnhupH58o2K6cRVYQowsJFEce+sZH7YuoEf0\n",
       "+NPDok3cLIIERnYp802ZOzY0abGigMK7L3Ye3mkn/icBI6iQR1h2WZgZbhbCZkLyaMt9cOO1dsmW\n",
       "06vyz9sikKgxHIxfG4AEDOAyjkIyBOvCKBLcjmEh9e4ZesLbggTX8Vhxq5omkNoupTvY5U785wc8\n",
       "rY1wP/0duo5DiLKR6GrBHcylzIVP3NwOVw5AqOr/d4yHiRNPBWcrOPjYmcaapufasyS+M4La+yiW\n",
       "BxxwJ+KI+Y2RthUhYxCAAAACDkGbLUmoQWiZTBTwS//+tSqAFY+dWKpyt+gAfp3cdg1DDYGLg+7c\n",
       "yUdN5ki0X+K3TM2GnZJPGHmEvYOXthvOwI9ETp/Oel/gnVDgItn8rVs8fa7ZNlJNkzp6HaVKnyHV\n",
       "n8QNWY30hjLySPSoMqAncM+GdnW1PKguLIySFHWOq3Ow+J9VEpTne7WlhHrxUqdqg3h72tuBnFoV\n",
       "HGt0nmGNAGk4Dymg4xGpB6p06jYVXGivbGeaCtCRpTcj7sL2aeMDhpIlWTWYDp4yYJRXyy0u50sn\n",
       "u7xnOl208FzgDRR/B3WoDw7MO9XpWAByVzD/rsbjd0IYgxbAR5QYCCnSOZxGIvQBhkApiGQiRoIk\n",
       "fvnjozi9UeDsQHl/r9IUg2BCZX7E/OVFVoNSYAoF9y/XfQeP0dfW5hDnbqcVOcQ4BDpBtD8G363M\n",
       "8vtcfmKVq2Zs+1AbI3kh4QWnbQT/YQ6/VRaD0EOEtNvSdxSX9VVfJg5Zzz4W/qO8WyCBJYYjCLBo\n",
       "Pjr5xTwhRzGf7BWaiP5CPccnIO9TH0hwlAiwYUfdgnltu2nho2yY8ojr7teYiP2EIRcYaS6am+Cp\n",
       "lsWlCLYWa+t4eRko5gUYgF9YixtyUsCjX462KI7knB5gDyBJqE9LJJctyYXLjmWuJB1WF6YGvxAz\n",
       "GeR+a1yUbD9bB0w/tT7KPk8w9XoP9j7TwKyDALeKhhYAAADwAZ9MakP/ADm2XHV4AJpdAmtSdaUL\n",
       "aUoor3MLVuiHmEV8U8IQpaPVej7UsGPgNkaApvJMIGWfFDSGviHh3r/pPWry9jG+hZlYIymYkas5\n",
       "d+syU+4lBuVcel4h5MSATZD1kpFI/LlXlUTh4O/XVgb9sKHC1SmhOyZ2FQdeJr5rlpAB/9TH/QsL\n",
       "zkrIWFPQ6o6XW1BSZAeyOzbeVxtVmXVrZJobnWTHGSpFEJ6IOkTD1NRCR/qgRScM6iVXVcq61g0n\n",
       "uKnA8nsSfOBNlOTaBeZXiwTUnc2ckha0RgM0E/zHvI5w4VyaclZ7gj/seb3hucoPAAABJkGbT0nh\n",
       "ClJlMFLBL/61KoAU351CCUYluADZjic7QNetj2Wli8h4lCBFEMEe2gVb4QIviPVb0jWbk1U6nxOB\n",
       "Vl/3y39ahX5u2Nb0BVfpzkD7wB8rOjWm5ZN0MLSkV/nP9FMOPUaa3faiDwoZ9ucgbZij0l3/d9id\n",
       "8uj+s9lVC6WcE9TCZm8rDmfMW/x2vfrXkdyeFW9iAqDhph+hJvlH2lCWrvzYIpe74E6iVvJfwAxr\n",
       "vpTlAtzBljkTJ2hw3A2Dc9UaABu5TOZMNx4yM5bMIolKSEEFABt8r1jgj9Y+sXrTwAYl49b7AMTZ\n",
       "Q+1hrfyrowrudFSC5qsnW0NAJGsposBLtZl/k/waHcZ8S90vwbvQf2XWbP3a4Tp2TD+cflU49uEf\n",
       "LqR+rwAAAP8Bn25qQ/8AOFZcdXgAmbWU/wsfiFEwYRwGYMEr7rpZVh26DBrSCLxSXiH1m7xQ9amk\n",
       "KSRUYvEl55N7IToGxf9OAoy/T6gDB9HqIWwBEgsNuGeo1bXR5zzOU37QGgO9g7M/2t7j4ByS454e\n",
       "PJJH03ewNIIFW2NWj0CQ47eY91d6vimiIYVLo13M9dh7r8T7Cfz3+ZFMOm+gXgPxAvbqm8+LF0Zt\n",
       "weHMVknyAeVqIwKKlTPEQuM+f5yMa0rxXzOZNnsMxxjyMCPtoQ/kexlxheUPVzs4oBUOx9UIAXvb\n",
       "g37wnCrCzz5bvlpJcaEkQp2r2KcglJQYsMF9Q04UbhaNp4kAAAEhQZtwSeEOiZTAgl/+tSqAFBzu\n",
       "nSUAEO1ff7LBku74Sef/gDzjwSkVR2nDaJyrRcUfslulWUKvNTwUU81LfSzje5KZcqYiYiYL9OUh\n",
       "uQpTVlli2X32Pv/V0czUqmGwdE/NX9i+Zad4HmMM4mv8icmZuyhOPbIOqmiF0EH5Fq+VRgtwZVzb\n",
       "DcDMIf14IIs5sbwwVKlaHbP8p3qe4dLOoJWGOUYsrPivFpSq5ajAvnq8otFKRbiabnxEjP8mtwxw\n",
       "vTgqohjQ1A0wgYiNG0c+QcJ31lLjgi03QsdXDFlH3MU0sp0TsRuoR7tmgImLgHOI7GEgYkFMmLNS\n",
       "A2zvLz7R4ErRCHQLJhU6JSKlS92ILMWOcQVvrtqp47VtN0CpWLnHnRzGgAAAATVBm5NJ4Q8mUwIf\n",
       "//6plgCc/WQCmpeC1GwAnW1U37KiWKxLoRDJKEvnnpf39vVmBV6pDdeYYmW/5nEn0vNZW/PrDAVl\n",
       "SZ2Pt+6fN80eEcWEx0G4OQgxuwHcflqVAOHOHrnXUQkv/BjLi5XDrJ9hg3NXh9z2RCBOma+yz5E0\n",
       "46wcLlWiepbutBBcyhFw6HWliLWwHm+es9IDlv3kqSqzpwxW9V2RZNE3Z1up1S3OPAepAm51XMvK\n",
       "lTBUsJNWs9Fhlhd4+MCRJnvQceaHwjUHUdkRqhnf4hwoHmQExgHepJBcN/bO0ltXITJNPxGfNABk\n",
       "DSXuP6mO0Bzk8cN2xjPzKSik5O2WsrIK/psiw5PWIl73F2xaa9Vzv/pvMWLF9KFiAXY7lHZNs9I+\n",
       "/tQlVNoc1HKk/JINydAAAAFRQZ+xRRE8EP8AGPod2Js2UABOW3rG1oOVulyFFc0yCJNt05SJzIwe\n",
       "/qCoS7tPq4b0zgn3EFCZ7IK2+bRl4i4YrAfkN4Tt5sA073huUkszfPlSoWxAIx4oryBTCTWoHlaB\n",
       "g0bRrj9zWBZczIfE7xdcEdby1CuAZbqCGou55wXkfipHdv85Uxk3s+iItEn1kSXFX8n3A49Xrl4i\n",
       "psaVRufmDGOjLlzJw6lxdo+18nqLIIPv8Oq8/70cmllX0yyXhMVfXR9IGkRBRSJHKNl87lpAq6kX\n",
       "G53HRKSDfiCkjog4y7oTZlWh16Yryz4MbLp6hJ7UF0/eGJyIGn/W6doNEWQx5OyirsWlp94DIZ0v\n",
       "yS+e+DRx38M5LUKhsKZssj10VY3Ia5dxQzdSjTG2Ty3LNLv5NRhn7eXXKcH3XDrVN/aKO06yjfen\n",
       "wNe8L9EJui5agLJ5JwAAATsBn9JqQ/8ANTE/VK+gA/YDc+LfvbNbdYCHe/1ESRhioMC9F/+mOxHQ\n",
       "Joim+rB1SDMHFPzzB9uVudXtdC1ioMrKlRSW4JaAghk1dbX1x54kZPAKz8TrA0/7PCihSyEGOkpr\n",
       "iFiCb71tqZ7BYvLWGl6kfZa0HpVvLTBRtnMisqaBkGZ11F4F2vu9vXlUcHUlvmrPwXvwBakhKnFc\n",
       "kmQhHfPNmj1pmYWyPUDlYYxPpnHB8MWKdFYzTVQWf6zU63Xo6wWE8ekZgOM2fPNO+2iNJWtQtLT6\n",
       "fGP9wYhf18ynvZo66bdTHcOB7/dBzlh5uyOPNvZToxqMU+7165ySu/P/7S0fi33Rpy4OGJsuI8ea\n",
       "ATJQzPKvZAjDM6+IEB4PtlmfMlewxnJoLDrOIcjUZAzlsqnAcGGuoP5fjpUVdqAAAAP+bW9vdgAA\n",
       "AGxtdmhkAAAAAAAAAAAAAAAAAAAD6AAAD6AAAQAAAQAAAAAAAAAAAAAAAAEAAAAAAAAAAAAAAAAA\n",
       "AAABAAAAAAAAAAAAAAAAAABAAAAAAAAAAAAAAAAAAAAAAAAAAAAAAAAAAAAAAAAAAgAAAyh0cmFr\n",
       "AAAAXHRraGQAAAADAAAAAAAAAAAAAAABAAAAAAAAD6AAAAAAAAAAAAAAAAAAAAAAAAEAAAAAAAAA\n",
       "AAAAAAAAAAABAAAAAAAAAAAAAAAAAABAAAAAAbAAAAEgAAAAAAAkZWR0cwAAABxlbHN0AAAAAAAA\n",
       "AAEAAA+gAAAQAAABAAAAAAKgbWRpYQAAACBtZGhkAAAAAAAAAAAAAAAAAAAoAAAAoABVxAAAAAAA\n",
       "LWhkbHIAAAAAAAAAAHZpZGUAAAAAAAAAAAAAAABWaWRlb0hhbmRsZXIAAAACS21pbmYAAAAUdm1o\n",
       "ZAAAAAEAAAAAAAAAAAAAACRkaW5mAAAAHGRyZWYAAAAAAAAAAQAAAAx1cmwgAAAAAQAAAgtzdGJs\n",
       "AAAAs3N0c2QAAAAAAAAAAQAAAKNhdmMxAAAAAAAAAAEAAAAAAAAAAAAAAAAAAAAAAbABIABIAAAA\n",
       "SAAAAAAAAAABAAAAAAAAAAAAAAAAAAAAAAAAAAAAAAAAAAAAAAAAAAAAGP//AAAAMWF2Y0MBZAAV\n",
       "/+EAGGdkABWs2UGwloQAAAMABAAAAwAoPFi2WAEABmjr48siwAAAABx1dWlka2hA8l8kT8W6OaUb\n",
       "zwMj8wAAAAAAAAAYc3R0cwAAAAAAAAABAAAAFAAACAAAAAAUc3RzcwAAAAAAAAABAAAAAQAAAJBj\n",
       "dHRzAAAAAAAAABAAAAABAAAQAAAAAAEAACAAAAAAAgAACAAAAAABAAAQAAAAAAEAACAAAAAAAgAA\n",
       "CAAAAAABAAAQAAAAAAEAACAAAAAAAgAACAAAAAABAAAYAAAAAAEAAAgAAAAAAQAAGAAAAAABAAAI\n",
       "AAAAAAEAABAAAAAAAQAAIAAAAAACAAAIAAAAABxzdHNjAAAAAAAAAAEAAAABAAAAFAAAAAEAAABk\n",
       "c3RzegAAAAAAAAAAAAAAFAAAEpAAAANsAAABzwAAAXUAAAHSAAABiwAAAacAAAFXAAABggAAAjEA\n",
       "AAGXAAABSgAAAhIAAAD0AAABKgAAAQMAAAElAAABOQAAAVUAAAE/AAAAFHN0Y28AAAAAAAAAAQAA\n",
       "ACwAAABidWR0YQAAAFptZXRhAAAAAAAAACFoZGxyAAAAAAAAAABtZGlyYXBwbAAAAAAAAAAAAAAA\n",
       "AC1pbHN0AAAAJal0b28AAAAdZGF0YQAAAAEAAAAATGF2ZjU4LjI5LjEwMA==\n",
       "\">\n",
       "  Your browser does not support the video tag.\n",
       "</video>"
      ],
      "text/plain": [
       "<IPython.core.display.HTML object>"
      ]
     },
     "execution_count": 2,
     "metadata": {},
     "output_type": "execute_result"
    }
   ],
   "source": [
    "def convection(n, u, u_old):\n",
    "    u_old = u.copy()\n",
    "    for i in range(1, nx):\n",
    "        u[i] = u_old[i] - u_old[i] * dt / dx * (u_old[i] - u_old[i-1])\n",
    "        line.set_data(x, u)\n",
    "\n",
    "u_old = u\n",
    "anim = animation.FuncAnimation(fig, convection, fargs=(u,u_old), frames=nt)\n",
    "HTML(anim.to_html5_video())"
   ]
  },
  {
   "cell_type": "markdown",
   "metadata": {},
   "source": [
    "What do you observe about the evolution of the hat function under the nonlinear convection equation? What happens when you change the numerical parameters and run again?"
   ]
  },
  {
   "cell_type": "markdown",
   "metadata": {},
   "source": [
    "## Learn More"
   ]
  },
  {
   "cell_type": "markdown",
   "metadata": {},
   "source": [
    "For a careful walk-through of the discretization of the convection equation with finite differences (and all steps from 1 to 4), watch **Video Lesson 4** by Prof. Barba on YouTube."
   ]
  },
  {
   "cell_type": "code",
   "execution_count": 3,
   "metadata": {
    "collapsed": false,
    "jupyter": {
     "outputs_hidden": false
    }
   },
   "outputs": [
    {
     "data": {
      "image/jpeg": "[encoded data removed]",
      "text/html": [
       "\n",
       "        <iframe\n",
       "            width=\"400\"\n",
       "            height=\"300\"\n",
       "            src=\"https://www.youtube.com/embed/y2WaK7_iMRI\"\n",
       "            frameborder=\"0\"\n",
       "            allowfullscreen\n",
       "        ></iframe>\n",
       "        "
      ],
      "text/plain": [
       "<IPython.lib.display.YouTubeVideo at 0x114905208>"
      ]
     },
     "execution_count": 3,
     "metadata": {},
     "output_type": "execute_result"
    }
   ],
   "source": [
    "from IPython.display import YouTubeVideo\n",
    "YouTubeVideo('y2WaK7_iMRI')"
   ]
  },
  {
   "cell_type": "code",
   "execution_count": 4,
   "metadata": {
    "collapsed": false,
    "jupyter": {
     "outputs_hidden": false
    }
   },
   "outputs": [
    {
     "ename": "FileNotFoundError",
     "evalue": "[Errno 2] No such file or directory: '../styles/custom.css'",
     "output_type": "error",
     "traceback": [
      "\u001b[0;31m---------------------------------------------------------------------------\u001b[0m",
      "\u001b[0;31mFileNotFoundError\u001b[0m                         Traceback (most recent call last)",
      "\u001b[0;32m<ipython-input-4-ddce439eb638>\u001b[0m in \u001b[0;36m<module>\u001b[0;34m\u001b[0m\n\u001b[1;32m      3\u001b[0m     \u001b[0mstyles\u001b[0m \u001b[0;34m=\u001b[0m \u001b[0mopen\u001b[0m\u001b[0;34m(\u001b[0m\u001b[0;34m\"../styles/custom.css\"\u001b[0m\u001b[0;34m,\u001b[0m \u001b[0;34m\"r\"\u001b[0m\u001b[0;34m)\u001b[0m\u001b[0;34m.\u001b[0m\u001b[0mread\u001b[0m\u001b[0;34m(\u001b[0m\u001b[0;34m)\u001b[0m\u001b[0;34m\u001b[0m\u001b[0;34m\u001b[0m\u001b[0m\n\u001b[1;32m      4\u001b[0m     \u001b[0;32mreturn\u001b[0m \u001b[0mHTML\u001b[0m\u001b[0;34m(\u001b[0m\u001b[0mstyles\u001b[0m\u001b[0;34m)\u001b[0m\u001b[0;34m\u001b[0m\u001b[0;34m\u001b[0m\u001b[0m\n\u001b[0;32m----> 5\u001b[0;31m \u001b[0mcss_styling\u001b[0m\u001b[0;34m(\u001b[0m\u001b[0;34m)\u001b[0m\u001b[0;34m\u001b[0m\u001b[0;34m\u001b[0m\u001b[0m\n\u001b[0m",
      "\u001b[0;32m<ipython-input-4-ddce439eb638>\u001b[0m in \u001b[0;36mcss_styling\u001b[0;34m()\u001b[0m\n\u001b[1;32m      1\u001b[0m \u001b[0;32mfrom\u001b[0m \u001b[0mIPython\u001b[0m\u001b[0;34m.\u001b[0m\u001b[0mcore\u001b[0m\u001b[0;34m.\u001b[0m\u001b[0mdisplay\u001b[0m \u001b[0;32mimport\u001b[0m \u001b[0mHTML\u001b[0m\u001b[0;34m\u001b[0m\u001b[0;34m\u001b[0m\u001b[0m\n\u001b[1;32m      2\u001b[0m \u001b[0;32mdef\u001b[0m \u001b[0mcss_styling\u001b[0m\u001b[0;34m(\u001b[0m\u001b[0;34m)\u001b[0m\u001b[0;34m:\u001b[0m\u001b[0;34m\u001b[0m\u001b[0;34m\u001b[0m\u001b[0m\n\u001b[0;32m----> 3\u001b[0;31m     \u001b[0mstyles\u001b[0m \u001b[0;34m=\u001b[0m \u001b[0mopen\u001b[0m\u001b[0;34m(\u001b[0m\u001b[0;34m\"../styles/custom.css\"\u001b[0m\u001b[0;34m,\u001b[0m \u001b[0;34m\"r\"\u001b[0m\u001b[0;34m)\u001b[0m\u001b[0;34m.\u001b[0m\u001b[0mread\u001b[0m\u001b[0;34m(\u001b[0m\u001b[0;34m)\u001b[0m\u001b[0;34m\u001b[0m\u001b[0;34m\u001b[0m\u001b[0m\n\u001b[0m\u001b[1;32m      4\u001b[0m     \u001b[0;32mreturn\u001b[0m \u001b[0mHTML\u001b[0m\u001b[0;34m(\u001b[0m\u001b[0mstyles\u001b[0m\u001b[0;34m)\u001b[0m\u001b[0;34m\u001b[0m\u001b[0;34m\u001b[0m\u001b[0m\n\u001b[1;32m      5\u001b[0m \u001b[0mcss_styling\u001b[0m\u001b[0;34m(\u001b[0m\u001b[0;34m)\u001b[0m\u001b[0;34m\u001b[0m\u001b[0;34m\u001b[0m\u001b[0m\n",
      "\u001b[0;31mFileNotFoundError\u001b[0m: [Errno 2] No such file or directory: '../styles/custom.css'"
     ]
    }
   ],
   "source": [
    "from IPython.core.display import HTML\n",
    "def css_styling():\n",
    "    styles = open(\"../styles/custom.css\", \"r\").read()\n",
    "    return HTML(styles)\n",
    "css_styling()"
   ]
  },
  {
   "cell_type": "markdown",
   "metadata": {},
   "source": [
    "> (The cell above executes the style for this notebook.)"
   ]
  },
  {
   "cell_type": "code",
   "execution_count": null,
   "metadata": {},
   "outputs": [],
   "source": []
  }
 ],
 "metadata": {
  "kernelspec": {
   "display_name": "Python 3",
   "language": "python",
   "name": "python3"
  },
  "language_info": {
   "codemirror_mode": {
    "name": "ipython",
    "version": 3
   },
   "file_extension": ".py",
   "mimetype": "text/x-python",
   "name": "python",
   "nbconvert_exporter": "python",
   "pygments_lexer": "ipython3",
   "version": "3.7.3"
  }
 },
 "nbformat": 4,
 "nbformat_minor": 4
}
