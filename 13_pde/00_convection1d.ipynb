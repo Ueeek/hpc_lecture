{
 "cells": [
  {
   "cell_type": "raw",
   "metadata": {},
   "source": [
    "Text provided under a Creative Commons Attribution license, CC-BY.  All code is made available under the FSF-approved BSD-3 license.  (c) Lorena A. Barba, Gilbert F. Forsyth 2017. Thanks to NSF for support via CAREER award #1149784."
   ]
  },
  {
   "cell_type": "markdown",
   "metadata": {},
   "source": [
    "[@LorenaABarba](https://twitter.com/LorenaABarba)"
   ]
  },
  {
   "cell_type": "markdown",
   "metadata": {},
   "source": [
    "12 steps to Navier–Stokes\n",
    "======\n",
    "***"
   ]
  },
  {
   "cell_type": "markdown",
   "metadata": {},
   "source": [
    "Hello! Welcome to the **12 steps to Navier–Stokes**. This is a practical module that is used in the beginning of an interactive Computational Fluid Dynamics (CFD) course taught by [Prof. Lorena Barba](http://lorenabarba.com) since Spring 2009 at Boston University. The course assumes only basic programming knowledge (in any language) and of course some foundation in partial differential equations and fluid mechanics. The practical module was inspired by the ideas of Dr. Rio Yokota, who was a post-doc in Barba's lab, and has been refined by Prof. Barba and her students over several semesters teaching the course. The course is taught entirely using Python and students who don't know Python just learn as we work through the module.\n",
    "\n",
    "This [Jupyter notebook](https://jupyter-notebook.readthedocs.io/en/stable/) will lead you through the first step of programming your own Navier–Stokes solver in Python from the ground up.  We're going to dive right in.  Don't worry if you don't understand everything that's happening at first, we'll cover it in detail as we move forward and you can support your learning with the videos of [Prof. Barba's lectures on YouTube](http://www.youtube.com/playlist?list=PL30F4C5ABCE62CB61).\n",
    "\n",
    "For best results, after you follow this notebook, prepare your own code for Step 1, either as a Python script or in a clean Jupyter notebook.\n",
    "\n",
    "To execute this Notebook, we assume you have invoked the notebook server using: `jupyter notebook`."
   ]
  },
  {
   "cell_type": "markdown",
   "metadata": {},
   "source": [
    "Step 1: 1-D Linear Convection\n",
    "-----\n",
    "***"
   ]
  },
  {
   "cell_type": "markdown",
   "metadata": {},
   "source": [
    "The 1-D Linear Convection equation is the simplest, most basic model that can be used to learn something about CFD. It is surprising that this little equation can teach us so much! Here it is:\n",
    "\n",
    "$$\\frac{\\partial u}{\\partial t} + c \\frac{\\partial u}{\\partial x} = 0$$\n",
    "\n",
    "With given initial conditions (understood as a *wave*), the equation represents the propagation of that initial *wave* with speed $c$, without change of shape. Let the initial condition be $u(x,0)=u_0(x)$. Then the exact solution of the equation is $u(x,t)=u_0(x-ct)$.\n",
    "\n",
    "We discretize this equation in both space and time, using the Forward Difference scheme for the time derivative and the Backward Difference scheme for the space derivative. Consider discretizing the spatial coordinate $x$ into points that we index from $i=0$ to $N$, and stepping in discrete time intervals of size $\\Delta t$.\n",
    "\n",
    "From the definition of a derivative (and simply removing the limit), we know that:\n",
    "\n",
    "$$\\frac{\\partial u}{\\partial x}\\approx \\frac{u(x+\\Delta x)-u(x)}{\\Delta x}$$\n",
    "\n",
    "Our discrete equation, then, is:\n",
    "\n",
    "$$\\frac{u_i^{n+1}-u_i^n}{\\Delta t} + c \\frac{u_i^n - u_{i-1}^n}{\\Delta x} = 0 $$\n",
    "\n",
    "Where $n$ and $n+1$ are two consecutive steps in time, while $i-1$ and $i$ are two neighboring points of the discretized $x$ coordinate. If there are given initial conditions, then the only unknown in this discretization is $u_i^{n+1}$.  We can solve for our unknown to get an equation that allows us to advance in time, as follows:\n",
    "\n",
    "$$u_i^{n+1} = u_i^n - c \\frac{\\Delta t}{\\Delta x}(u_i^n-u_{i-1}^n)$$\n",
    "\n",
    "Now let's try implementing this in Python.  \n",
    "\n",
    "We'll start by importing a few libraries to help us out.\n",
    "\n",
    "* `numpy` is a library that provides a bunch of useful matrix operations akin to MATLAB\n",
    "* `matplotlib` is a 2D plotting library that we will use to plot our results\n",
    "* `time` and `sys` provide basic timing functions that we'll use to slow down animations for viewing"
   ]
  },
  {
   "cell_type": "code",
   "execution_count": 1,
   "metadata": {
    "collapsed": false,
    "jupyter": {
     "outputs_hidden": false
    }
   },
   "outputs": [
    {
     "name": "stdout",
     "output_type": "stream",
     "text": [
      "The history saving thread hit an unexpected error (OperationalError('database is locked')).History will not be written to the database.\n"
     ]
    }
   ],
   "source": [
    "# Remember: comments in python are denoted by the pound sign\n",
    "import numpy\n",
    "from matplotlib import pyplot\n",
    "from matplotlib import animation, rc\n",
    "from IPython.display import HTML"
   ]
  },
  {
   "cell_type": "code",
   "execution_count": 2,
   "metadata": {
    "collapsed": false,
    "jupyter": {
     "outputs_hidden": false
    }
   },
   "outputs": [],
   "source": [
    "#this makes matplotlib plots appear in the notebook (instead of a separate window)\n",
    "%matplotlib inline                  "
   ]
  },
  {
   "cell_type": "markdown",
   "metadata": {},
   "source": [
    "Now let's define a few variables; we want to define an evenly spaced grid of points within a spatial domain that is 2 units of length wide, i.e., $x_i\\in(0,2)$.  We'll define a variable `nx`, which will be the number of grid points we want and `dx` will be the distance between any pair of adjacent grid points.  "
   ]
  },
  {
   "cell_type": "code",
   "execution_count": 20,
   "metadata": {
    "collapsed": false,
    "jupyter": {
     "outputs_hidden": false
    }
   },
   "outputs": [],
   "source": [
    "nx = 41  # try changing this number from 41 to 81 and Run All ... what happens?\n",
    "dx = 2 / (nx-1)\n",
    "nt = 25    #number of timesteps we want to calculate\n",
    "dt = .025  #amount of time each timestep covers (delta t)\n",
    "c = 1      #assume wavespeed of c = 1"
   ]
  },
  {
   "cell_type": "markdown",
   "metadata": {},
   "source": [
    "We also need to set up our initial conditions. The initial velocity $u_0$ is given as \n",
    "$u = 2$ in the interval $0.5 \\leq x \\leq 1$  and $u = 1$ everywhere else in $(0,2)$ (i.e., a hat function).\n",
    "\n",
    "Here, we use the function `ones()` defining a `numpy` array which is `nx` elements long with every value equal to 1."
   ]
  },
  {
   "cell_type": "code",
   "execution_count": 21,
   "metadata": {},
   "outputs": [
    {
     "data": {
      "image/png": "[encoded data removed]",
      "text/plain": [
       "<Figure size 432x288 with 1 Axes>"
      ]
     },
     "metadata": {
      "needs_background": "light"
     },
     "output_type": "display_data"
    }
   ],
   "source": [
    "x = numpy.linspace(0, 2, nx)\n",
    "u = numpy.ones(nx)\n",
    "u[int(.5 / dx):int(1 / dx + 1)] = 2  #setting u = 2 between 0.5 and 1 as per our I.C.s\n",
    "fig, ax = pyplot.subplots()\n",
    "line, = ax.plot(x, u)"
   ]
  },
  {
   "cell_type": "markdown",
   "metadata": {},
   "source": [
    "Now let's take a look at those initial conditions using a Matplotlib plot.  We've imported the `matplotlib` plotting library `pyplot` and the plotting function is called `plot`, so we'll call `pyplot.plot`. To learn about the myriad possibilities of Matplotlib, explore the [Gallery](http://matplotlib.org/gallery.html) of example plots.\n",
    "\n",
    "Here, we use the syntax for a simple 2D plot: `plot(x,y)`, where the `x` values are evenly distributed grid points:"
   ]
  },
  {
   "cell_type": "markdown",
   "metadata": {},
   "source": [
    "Why doesn't the hat function have perfectly straight sides? Think for a bit."
   ]
  },
  {
   "cell_type": "markdown",
   "metadata": {},
   "source": [
    "Now it's time to implement the discretization of the convection equation using a finite-difference scheme.  \n",
    "\n",
    "For every element of our array `u`, we need to perform the operation $u_i^{n+1} = u_i^n - c \\frac{\\Delta t}{\\Delta x}(u_i^n-u_{i-1}^n)$\n",
    "\n",
    "We'll store the result in a new (temporary) array `un`, which will be the solution $u$ for the next time-step.  We will repeat this operation for as many time-steps as we specify and then we can see how far the wave has convected.  \n",
    "\n",
    "We first initialize our placeholder array `un` to hold the values we calculate for the $n+1$ timestep, using once again the NumPy function `ones()`.\n",
    "\n",
    "Then, we may think we have two iterative operations: one in space and one in time (we'll learn differently later), so we'll start by nesting one loop inside the other. Note the use of the nifty `range()` function. When we write: `for i in range(1,nx)` we will iterate through the `u` array, but we'll be skipping the first element (the zero-th element).  *Why?*"
   ]
  },
  {
   "cell_type": "code",
   "execution_count": 22,
   "metadata": {},
   "outputs": [
    {
     "data": {
      "text/html": [
       "<video width=\"432\" height=\"288\" controls autoplay loop>\n",
       "  <source type=\"video/mp4\" src=\"data:video/mp4;base64,AAAAHGZ0eXBNNFYgAAACAGlzb21pc28yYXZjMQAAAAhmcmVlAABH0m1kYXQAAAKtBgX//6ncRem9\n",
       "5tlIt5Ys2CDZI+7veDI2NCAtIGNvcmUgMTU5IHIyOTk5IDI5NjQ5NGEgLSBILjI2NC9NUEVHLTQg\n",
       "QVZDIGNvZGVjIC0gQ29weWxlZnQgMjAwMy0yMDIwIC0gaHR0cDovL3d3dy52aWRlb2xhbi5vcmcv\n",
       "eDI2NC5odG1sIC0gb3B0aW9uczogY2FiYWM9MSByZWY9MyBkZWJsb2NrPTE6MDowIGFuYWx5c2U9\n",
       "MHgzOjB4MTEzIG1lPWhleCBzdWJtZT03IHBzeT0xIHBzeV9yZD0xLjAwOjAuMDAgbWl4ZWRfcmVm\n",
       "PTEgbWVfcmFuZ2U9MTYgY2hyb21hX21lPTEgdHJlbGxpcz0xIDh4OGRjdD0xIGNxbT0wIGRlYWR6\n",
       "b25lPTIxLDExIGZhc3RfcHNraXA9MSBjaHJvbWFfcXBfb2Zmc2V0PS0yIHRocmVhZHM9NiBsb29r\n",
       "YWhlYWRfdGhyZWFkcz0xIHNsaWNlZF90aHJlYWRzPTAgbnI9MCBkZWNpbWF0ZT0xIGludGVybGFj\n",
       "ZWQ9MCBibHVyYXlfY29tcGF0PTAgY29uc3RyYWluZWRfaW50cmE9MCBiZnJhbWVzPTMgYl9weXJh\n",
       "bWlkPTIgYl9hZGFwdD0xIGJfYmlhcz0wIGRpcmVjdD0xIHdlaWdodGI9MSBvcGVuX2dvcD0wIHdl\n",
       "aWdodHA9MiBrZXlpbnQ9MjUwIGtleWludF9taW49NSBzY2VuZWN1dD00MCBpbnRyYV9yZWZyZXNo\n",
       "PTAgcmNfbG9va2FoZWFkPTQwIHJjPWNyZiBtYnRyZWU9MSBjcmY9MjMuMCBxY29tcD0wLjYwIHFw\n",
       "bWluPTAgcXBtYXg9NjkgcXBzdGVwPTQgaXBfcmF0aW89MS40MCBhcT0xOjEuMDAAgAAAEVdliIQA\n",
       "E//+97GPgU3IAA2XOop6H+EVsfSQUXqx2aBk6gAAAwAAiYGOFkC1uVpxUAAA48P/R/gAMsBhlM1h\n",
       "6DB/iJouV67AVjwK+94zawRLOCcYKqQ2XRnafEMJ/vkCqsJ9o4Qd7rUqlk25J6A7HohM9+M3BOOT\n",
       "BnwKSJdxxyL+1PXdoyTO6Q1UsbcK8UPdKZJP+EpHuVyKARFatVsEtcjuGc0UEdIS9i/rTSLp4fS+\n",
       "3/rk1s8/ypSo0xEQnfrfCT2Np9BCF7aih0jyU0AeiCy3SYQgkmp3ep3rQtOiA3xPW/Hvy1VGZ96b\n",
       "dEH5zAtV07k1ZNI/8LLPyVWJ9KPVEO9YqLmfe3tjGGAOqFDRIwzy8VB1oHxKe+RAaRH/VPe9+sNW\n",
       "23jzVrRIYPWBwjOLx/+T53BQ1CQhvIj8CSbU5w5Lh58ch8b7x+sn/bKJhjbivRqF+BFvoxHFdaNy\n",
       "HA5RziVvzEiGvYDjMYVqtdR0IH7WhycKFQHSEtgyYvkmE5Iv1f2BM/l2LtZXDwBTXFj/0PJLppmT\n",
       "b2z6dDd/jjLyVPxyKb5MFvQYgfezzJO9h3Cfe2qMRi30a2A1qBtn48XTsKpW8iXWdPKuAa5m5Ijz\n",
       "VE/sKEi0es/JM4RNb3CrRm4pXBV/C6F0wC7X8ZWYkLv3gqkyucR/ETqzZpev/c8T910O8pjjEByR\n",
       "bQVEQ205L0gSKyZZX2dzrfUT8NyNQC91yB7u8jXv+Hg6uTzN4PeWcWmCn5veqKxdxGC5Ennlv5Sb\n",
       "ml9RgfFinBPCHT6KKxYRMVcVpcLwYPCP7GYsMvvi+SGKgZlldDmF01ZbZeGIpMkpbeZNH1V9HOdN\n",
       "lU3ftNP/3isVn7LK/OzKmMKm9Y1Tfd8MOLLUZfBHUH/gJFCdm5EBT85J6SBMUzOIAM4ISHdzzP2g\n",
       "MPvhZqcOFByDTlHasIp0es2pHx9430U5SeuJdTtdrkRnR1YBf3BncKujfH9+q8sMA1IEpEXSE1Ax\n",
       "WUrvZi0j6wWobpBSx1jbq9iN4l6QE48IipDgRdOe/MXSUbHztxObmFHi/dGH2ipvtWvSLGg09m63\n",
       "EtglsX6+/pKhPNUn8LRK82B/akHZqmjR42cXXxFiY1DlXfBlAp/RBCGW0heAIyRynGGO8J8Hk4Zg\n",
       "88yKQCdqYGUsGpFLQSJKkRaFhOvasCMJH9bVpwF1aF9cmY2NvEvnuM43fLF6zCXgW+cq/ra8uY0b\n",
       "4O1oF3G/Hvdzlg1orXbwe38o+FeQ0uNln5aygwpEOgQFKSisGsiHLalsYh06ZD2n3ULSENVyAcep\n",
       "4X2350+1yLRroJgcIPjl4g5ae/sbbWhwwAbOgoK+0367DJ7poNboen4JmYMNxbmi+yT+0TmTAL5q\n",
       "6iff6CF7Xv5k+xLrMFtNRc1wVA+jWy+Z7cyPMv7sgjS6/3Z9sjDdXUPhOquOcS+gmDYVmlw7tJRa\n",
       "65JjIL7KJ8vGdqpq5lcFgQE/vFpJZ1q9Vv9SHdoE4ERGvjQrlUYTMxS0lGLbb9fOygL+nMuSaCVX\n",
       "wDieRHjK0V6lDeHcU8pEPxncyx1RIIwMrxI1r6J+bh/ClaNwixSC1ia8ate9iTwDYlifh/ULZNUI\n",
       "EVc+ALskc0s8+p7/b+QxURUQHAAEeJscZuJOlwHWzY6DWLG7zE8bsFQpiZSQAxyYR5iLqcGe3cKq\n",
       "e/gpWRdFFSd+EGZksQsYO+PhhjSHvrvx7fAU7OCKQBTTWopZYiqFuGs+UMXM4tyV3xNiduaizq9v\n",
       "35oASe7MTYz5MW1tXkFqoMKfrSdLB1jXtiT9nGYxDUiMP1eNTQoVUKxIh+vcHCMVg2EbPEyYMEto\n",
       "xltbH6bKobUXU8dD6rqdDxrZSqvUYEFGBMK3wgOvz1FMDu4CbsWu7qr422gXXfpk2s0t8Fz092Nk\n",
       "X8QywjaRnLqu/ZiGrur9GEo08rQpp/8kHGEa/840JjxH/vD9EfaOzTTvPQbInUzM9UU9EpRHLoyo\n",
       "23L4G10+aF35C3XWzHcOMDaxR/7eJAy10IXa7IfVxM9WuJksCZGuJVZhn+PFDAOQ2ioPO4VQ4GUb\n",
       "o4g24bRzSs2XtLEQUofMZIheCeQeqi21ZLZ/ZHMcJFZzzTG7LwmI0NoVL9aQaRUsohDEkveeG+JF\n",
       "4jC3x1D3aO4aiOgDjycCdY2blcWQLiJ63kR/Tbv4TisGtV/8nrTwYXEhTN741ybLfjYBKajov3OO\n",
       "Dx0dise4ajvzQ3R7FRqA1B0QfwjXUi7CNS6FM7tgLUYyJ+3FL7f7moJTzYcbsSM4vKQbbip84sZl\n",
       "pmwNdFs7QuSpuc8442UOW2VvA5R7ig9lDiRfvgAlBTA3ogBOHOlW4MmcCaRBQBPsRDBA1+wp/+Qx\n",
       "8hOFMZCUgdQM75ywaMt7HYZ4fhEQAIA/nNVhBIpuByQXFBQAnTRg2nmqYx4JC0a6LlXKvedb5wwL\n",
       "s8PO5dmI3ZMrK7O6HVwyGbrgWoT1hDGfqAHXHiikqLaf8vKcCwfCIff7oNWRqv6q56mbOJNR1CnH\n",
       "WBb+BlznaFuCBO3zxUW9QkEPxsI+g9IE57/DM/yGSBH+t6zNNiuCKwON9//Y+luarVPdywjbUqKh\n",
       "iIhqHFxVPX9pl6VHJwgkk8oQSGHKj2aT/Wo0UH543Y2d9p0RQ/3ay1ghwo929xzGItTEt3ekZmRl\n",
       "XsZFdalbsAVix2wWkhXwiUGAK8Pseu52fVlSGvFFBqJhVcdjimRscMGffDNwA5eihsTWO3OGfB0x\n",
       "22kn6VHEkTCGgVJ5GtMj7jBsRbDJ3OsZ4vPWli3KaXhe+Oub+3bunWI01FxjJJS45j8tA7mCSrv2\n",
       "KV+43B7FHHKG8YcngAuuch9C8UGA2z1J6ePfI4jqrdy18mqfFgmKs876iJWYioS2qBwOJXkBS+kV\n",
       "WGvdsaeDJuMjepz3bSPsaJGoHiJES+3FN/YkF8yBDOh/yi/J0rBpSDX0eobdcbDZv5HU0mRRiRGG\n",
       "ddivfESeVc63/zE92WnPIqkdRkBJIKN0tWgLwVhkNSLKdkYpa/7pbk+C7D+n46OTOR+GR98exBx3\n",
       "sf2lfyex5j7OK0slVNY+xGHuZGYyIiUhiY2GeBs9Dfp4AXT5NcT/FC/5N5HaYra2Wi6eaE7ekbHc\n",
       "sxejjBjx3oJQAisGqjR/l//QSU8cGfvLf+c2tfMKaXvxDAg/xEO26+SiIsIEs7fiyWX0ONSad7gi\n",
       "ntXwiw0ayRFBZcqVZSImGSyRXhevDogiys7xlV+eaQZtD/M4ajp8ILNwfExO+gZ4DPSFaqftEbSj\n",
       "4klorZQRxBujHl7hjTBjw5rTgTM9L+MPKdq2uqqf7e8ELLmiND2jv611w5gf5/K2VR/2N1m0msBk\n",
       "aRL+0pRN+B+BHiIrg/HLhpJIDCHViHHWbaiubxoHXjOCdqEBwE23CRFqc9XRgKYVNbK6adWYS5eO\n",
       "3W0yOk+l2vxlB3STjk5GIpuUgxayYHxZUNlvxFuim8H4EAqxB7LrTPVX9VuiZ8Ca0WSJQUkUbgvb\n",
       "teMtdeKEqd44mITHU3ACN1i9a2++A6PM+c/77MVrN4gLA3pKxyrZR9jLtRWiRQmooY7puqSmMh9O\n",
       "6aE4/ZcmXfJzBt4rDA1hOQropJWPNVC2HJpCLc1vjewNajIZ/2c9pXoKISMb7UqR+GlWCPLCypW0\n",
       "fRBZ3kMroRlBccCPXb23NNhP/3stTFKe/X0RRLqjoGrViNOjIbuvkm8sbQF5XBx1QXRxPIzpAAJh\n",
       "i4aLvGbk/D9q3fCOPkbRWqHjHgWmaWiOXOCmgRJ9GwQ62D5YkeU2WGUDHCGjNf7RZoQ7lLXbXf9M\n",
       "5t+xa0TrBwFfyhbxbdJLXyrgUArzIWo/WLVZ4xCCJPPhFt2EJyyhpLDJD+d9vO45qJ50MmlI0u3S\n",
       "NtAPlCaOQOJ4zrOiYPbTV29SWClXU6eVTYnnZEwhBWIIx43zBo2m7Q42rKMh5B4PF6fGpZ2xGKWS\n",
       "td8Y0NvhfGrGxwY+SX+Q62GrqGZ/RDbObcduF45MlVf3IPnqM6wmUH7VKn94FOzHUPe0xM6dnFhG\n",
       "z0c6s6pk0KaLfzGtW8aAg72QfEeI9fe3uCquf18YKRAS/Z7PY3Ca86vzFvTptRu7ddpjm54AFdRq\n",
       "b4mgLc9TNz6xFoSFs8uNG+Yp++LmUvU3Lsntci9Po4PbrEP+d9tHrkFu3jDszzb7Sd1uSJQlCmjR\n",
       "oAmOqi/FUYWpYHdxlQZBJpIKVk29qxJhQeRlyhdeHQofQp4GzQTjo/3tCdCLYapi9VbUf0gWlIxJ\n",
       "Ls7yFYv2KH8bMre0lo8ErSpN5Ig7HmjSJPtKXRSty0Xp5VSdnHfPXIkBo6fasTgbUNt4LhQfulLz\n",
       "NXR+SMQD9Wec4ikX71hXGjWltJZ0d0yyelwvlp/y6zadUTAT+dlX098BLuFCfNfpuS0IzDNi05PN\n",
       "cYCmN3A9cPYRWwtGMPlCN5hrV4O4av9jxjutoSbSE5Co8beTM7n3W80KbnN+JU5OvSgFaKsYlagV\n",
       "FAOz0GL0/jQ8T8PwL+48hLX7U0zu3xwYlAnM/qJKtO1dfshVLdyrNheNPNTMVB7bWxxKS3/Qyccx\n",
       "32IKnS6OfwwSRXJjeD0mIFHUm1NU1DGLjkckm7Qp7L2zFrQeY/hktNDkVAjzMHcfGvP5/KOeLSVn\n",
       "YZW0ByNwmrRv6YHMdLU7nwX8tz69vzU/rGQ5mjTy1zFY2bUF5cMt4Ef8F6ZeS63x7PuhOSVN2u1e\n",
       "5DNeCQ+advuk3Q9uBxEzNC2xUHJqIaSSJq2PbxrrO7Kdv8uXvDuczpfWGANkWJk4duHSAP+kPtV9\n",
       "T/hTRSmhJALVJnVbGmesOhUgAkzHG2x0Nij8/Km61Efjf4V4aakTpmFa9pNIYQwTaM60YV97pHlK\n",
       "Lx3r6SBpXmzpbwcGLcNdG+bVCfOBSk4E482y9QjBGolO66oVy05Odv2UdMqMVScSUw6L1TqvRQju\n",
       "Shair41sjjP0BOF8gQ8VZg9CAZEkxVNHl395jEgyxJqfg2MINL3yHMaEbREJaN6Gm/iI86EWNZ6F\n",
       "Tn+XV2+xwzISCrI+FbJgfBviP9TuCP0uyzsEryUpSPj4hItRb5N11RtzE3zhLH3PzYEuMYVzadVi\n",
       "W+coj8yE0VsDjtorgO0tXUryWJ1DZoVzwKI4AUJ2IrzDabSO1wNOzGV3I+b3AzZP5N8/tRt44+R/\n",
       "pfbeAgVvU7tu75G++b/KDCxlXjcsYAH0LaqjeEVVLA7p3uIGSi0tXsYdoifpxHpN9mDoRptqRC5r\n",
       "WIQJbRsXwxRsJrVeEx1c5tj2fHcNhT48mO8Jd4T/mcK+r0o46UNJowN4Yk77RNXHkt2t1AvzeWZB\n",
       "oeBdZPHuKY1l3hTstqwKKKFuaUHGASgNKTvXGmPdLTdbzMYJLRaMfjOjL3ImluV1//B4hFaGy2+n\n",
       "3Z34bzvJ4NOonnRMKhho7Ij6bwEUPNBzMkM604lBBt5QKzMeV594QhGKnN7khwsYQfpOD0mMKfWX\n",
       "h6c4ccQSbufiPVnGUN9Q9/bal82bNBSvZXmLt5S+ObQcDup5rFXygP6ONjq31QvRIcDuqmdsNH+B\n",
       "I3LZAqUiGr7yLjxbwR2XATpN7qSCTAfef2iXWEw38YsL692gl8Lf439U///UOjFJVTFhk9cmQTap\n",
       "kOUJYZR8A+1yp7uwYtOTK8rp+nAhznk6R4fYTiNJd5FnjiExAvDkZp7PZTwtUXAi5YACKtcuI/yY\n",
       "ujd4MkymDoVLyXkbippyiRRTJ1mPSYuh7r2bOQuuFYYF5B+NVkOIjfvuOvd4RJkgYoPBCPjr8Lzw\n",
       "QHwFmFAFI9v6fgGJWH1/ZxgjSQ2VveWH2Srq7lSP40LOaGNKNCZhuJOJcB/ToQcRwbs8iWgxn7WY\n",
       "i7FAqQNa1IK9CiWZ5VF0KqbtQYELF3GUGQyWoh3dJ7liBCwACVUYucwBudTKgQAABQZBmiJsQT/+\n",
       "tSqAGn9nRuy5qKL4AHabVt0pfMOLJh99KTjHQlpTFgYhixtqsSqUH6xR3rejuh9vj7dCsuNQcObq\n",
       "d/tbSqCTphTh4uNZThLhRIV1AJ5h+Pxjy2pZkhv9SXjdXJR04J/3dICkOjYWk48/rQxYdZwqVVqR\n",
       "XWp2CYtxvh39IdW/2z5x7K+MXxGe7tm2Y9fwV/UudUFKFtHOOEZThExNwcQX7mN5zJm5kfv9uSZz\n",
       "qlIna8NN+rMLzrs97kYMyYc68SfAEl9W9xB+n257oB+1qpgv9Q7qQ4nxL3Hm/bAwn71zfAttI+Rb\n",
       "bMTqf7DY4ve6lZ664ZXhwJlogOm6L73k1p0LVFAtL0Eh5ERrAnR3kTGSKXAwB4LmPQ91ScaAdbsl\n",
       "5Xw0Z/04SSG+VC/TdZ/708uwcCkVXNxZ7uepkN/EYDynEejVJaKerAvwKl32Aqwk7Hyh1gV5fpnH\n",
       "/axqojS93On7I8xgKGEKEvmmeyWv+mNaqUasRFQR/IUKLdEbklpdZi3lBd/yTHjrcgg5DdlPm6xr\n",
       "XzawElBHzcvpF/AqJ5ObI2nnxWbKomHB6/Ps5bo1GK13z/0PYuoAHbPNu/ivkF+U6ksDiyA8rTZy\n",
       "URq9Zzn/eDioCCbTcJNex5NojLlaPwHyX5vqeDF8N2t1hYrz7Zr7SFCWZ2lt4nG5OmR9YFi0Wh/S\n",
       "WBCdbFfVz9Msa8FJwsVl3M2vbFnl1MWi6fWE6qAJQMi2jJmkkc0Wm8f80VV+wXaU76DuAanEfvp0\n",
       "bq8K9bO+lXYpJfSEfzjM4E65NaVY9HBy8LtNod1tB0YKA/+8Wd/J2KpLxneF/5TeECSHQv4u300q\n",
       "1UT/jzot6CMi9eNhsZIY4c33+dEnN1yBRetOi5V2ZwzBu58GirBNLM9Cgs46ByaSBEtBA7zpKFIo\n",
       "K0EmYa+JN52yMM3N4xR7yZViCLjHaYKEeuF96gyuZBQxOM6nMGtxw/IlHMi0GzHHkNjUZHO14CJA\n",
       "WMg///zZtnimO3n4o1zvqkBS3GY1L/vWBaoMHIPWKQonRTux7A0qNvR0ACKuLISHQbABPO7MUhMi\n",
       "+I7jtr3B3sdhOwWh2UlsS7MqlgOsyR9AuvgAdY/YvrmhwKZJNdWP11mxbWrQG8jjwRLsXBViADkW\n",
       "aZLfNUVlF9iyZt3CiQgsyKTzzQJBGOMogCB+++PTu9EyFKQIphGnTt2smpVFELoThiyZJDXcuKIF\n",
       "A73U9HHGj42S3wt+jyPEpxPgulugKToFH/MqDhwxqzJwgCmVAW8AR9L86CcwVg4oULIWF0PA/UCL\n",
       "8sl0iTWquPSxQ5UwicBf+lLalejRn8MXfG78sZWC1bqPzRXQYNysTMvAm09xzqeO9SFuikzRFyu1\n",
       "1n/4BRHOr2/Y8Ipm8D0u7C0VnAsZ88RJhRByNw51uTOSUwfdOaEuovoWqV6pZLcYVaqE2cggYdFH\n",
       "3nyyALTj59D5HakDbf5DOO+ArLKo4LbeHsLuNVvdpotGRpuQCDIvrwvEeTDLIwXTZ8z0M/fJE6QL\n",
       "MKj4eZAVP5Hx5gJ+Fes7gEayEHL61UVv4vGudlmdIj0QV/xgNH9IsP9bu5M8WTZXx+YxjmnNTGxU\n",
       "G6tcTBqN4gjX5QSU+jUNOe4V+jdm5r5fn9T09GMHhNxnjFcYRbZBSCNK4A8+qPc9HJzOyY4k/MXB\n",
       "S1SAXzQjB4aODWh/0HSltvrctwhh4BTKiAAAAewBnkF5D/8AQtooZut0EdoAP4kY0JDVaydZquxL\n",
       "10jOChCY3hyfZMR9UzIafLxMxbZUS1jcTOHyZEJg6ia30P6Zi0yLy/V+mL0BupqUUTfekt36EaUA\n",
       "x21uKXPScDAWf9MSsI98643FJybtGSrym05FhSQM5gy2LP/YpUFo3R9syz33RRvcbch6gzJBm9mY\n",
       "I329K613r/2rRaPAOIDvGv3tYQxgW/l9G/Sa6Zus/EgqYCmT8/e3+3gQVXlVV8A4p7VuUoi+gjYP\n",
       "nkwXQCiLpLgvhwcUQzRHeWWNTvJrL3nmSgkFS8axeWkV86PDNsQ12Elli7jSX4BpY0GdsczuHhgG\n",
       "1kDzh/VATNuc+qcZXvlV2kQD+vHG6dH2rDZjDfMhJUYuSUGCv+79VCNaWhO5aSq0RNrhSrXACSqc\n",
       "a5/r6bQQwyWybJMk9WdZAQwmlDG1JcvJUFT8Qxg37lgq0Bhz3FZ4WyP+pa8y2wfWvwh6zHTdMM8p\n",
       "qH17R6L/3C9ZDexrbZ9AE2PPKCJP2WAUypYq5riNQaYjmmtOwr1JQsxSY30T8f+zQaX+6b4LKVlT\n",
       "50KZivApwK02WPMrsCjA38Tth8IIbwm8uTn4pDmt9QRG+IR6noiDkEsVnmOj6x17/MwOgQkQN71t\n",
       "hlORJN2294EAAAL6QZpEPCGTKYQT//61KoAZff0ILBVMa3dKOzYEKm87HD0usG+67cB4RQgwbB5a\n",
       "vog6SIWw8ERiQAK+8O1/7SAkWP5UwiZL+xr9UZDZfI20Pys7s4uMbhZ1qIGctHEAkUvL4KtOa89c\n",
       "aVAVHlrluAsKVIOqc0KPRcxF1xNKuc/wiek4/J0Cp29cRJ2OnOWhTJZya3VD6E1Oj+AyPeYDfikS\n",
       "93sNXpQVaKE1Yn3t9ImIWPVDenSKnsnBTRUARvKuStCliwEX04Q4SvbM2HhGfxf4MwUoskx603fq\n",
       "f08G63wqfs49NR3taRM6ALqbkbcffr3qH58jFk4g9uLl1Wz6FPEMtVwSLFfwlnzMYA3oMFX5WsoM\n",
       "HqkumcdnvQ0ccvsuxbt7MdL6Z23FFYxkNb0jayZh9kZ72Wi6NgKlb1+Soodu1TAnctQwkreIT1Dr\n",
       "mx1UC9WlGAtJ1wLEkgGk4xiGu/S3+dq7oAFvzQvqiqD33u2uOUiH1sdEnJELxPxg9Srnnpa2Ur8I\n",
       "s923yWWUK/9ZWlHVIZw5OcA2bOZvfxt8mppMSR/XE1IPX4xI4IvU1zsKpSaFOFkR/FlbESwIJUQ+\n",
       "XeZG1sGo4vOj2vX4L4+YKN2Soo2ttpsRpkoCu8e/12gGW/x6d+N0AuFsOGh8Nu54o8JdTSw5ax5s\n",
       "+VhsrokN++3Bl1RfUXgywlb8RDJ58FF6YWRaYjOtLwC/biCcKPHop3B72CbWznjsYSlfQzcH+TJX\n",
       "LaT7phnYbWENj0yKgi8T8NeQrfyMyan4+N0UiIeHcUxp0TARbp5K83wb6gkkxFVxTMahYS5RNA93\n",
       "XCMYbUkkj3i1/B2qrd1wGRInTFp/J5xezlrb7GAtc1hJUHtO+rPwT8L5ZbxCETxd21iO6cZQQaeZ\n",
       "/CYA0ozIWqKN8Sl3H5gI62USCs6EhUkmfpY0y9pJQbZy6PDBxhwFcrhH58oNQj4eT7PT84Q4/e1F\n",
       "xmUPxwhU4pkLUT0tWi+2zyHhkxD/DTDz42RgIOjpyAOuAAACAAGeY2pD/wBA2iIkq+rTXoAJ0IVh\n",
       "o+LngzdtB00qrpqhnxMgP6tmXysjnogW5gjVLxAwTNZhIFoOkUr0mtx17Bb/0FDyEJYBv7EyxUwo\n",
       "QIlfRv/+a+Rx/ZIolAgA1SVLVIVSryAS/yIIbAifi6vQcZVdZmrExUS7FyJiwad25L57F1rdIRfJ\n",
       "J11ZG20VZ1G9xEMQRFGOCD6eb04FwPmUKau26EwAoezpCK3P+jci4SFaAVMe2lFKW+dP5pYs5oZe\n",
       "kt4z44gyV6XUjifu5mJWupCgfjUCdx4pPZZSe24irE+07Am/1JAoDEzvKeubI7udET+0+5dvvuIo\n",
       "+cBqLSsnwQze2WmPKoohwXv6m0ZDuHBt6heOA+vT49CcJ9UUgFbyqwDcRZb8CWz5n2hKUqHqus2R\n",
       "7nbiYtijxUeOSmEjO6hXcLKHp13M9x8qAd60di7/tomoe4oCgpzFb66w4TnlCaWY7p74hdvpuXZY\n",
       "rjGkpnZZOdkg1AcnksFIbsGB2EgyeveZaMh9uoqtybXqn7CAmll0/Gm38t0AOkIp7TXYwsKtKdft\n",
       "UqiK+RMj0a8a3HTp5tYxJIHbwfMAyjqyab5li9nfwt3ALZWaXJke/gpcXfX9XRlr5Ro/Fp/SWds0\n",
       "ryYLLPHXHlMwmXtVLM6X/Sm10Pv9GKx7cmq4Hh6zGExBPATNAAADbkGaZ0nhDyZTAgn//rUqgBiP\n",
       "ff/Wes4mcvFgAloaGxXXdd2A4pvtZPXWUTjOenwpQBgqQ1/AJJPAn/qIh5pNEEehxS9czOCIN8JQ\n",
       "OmhozutLq3vZxP3In82POYL6qzDzvRD67QBfhNzUbsVoX1pIXFp8OuoHhpy9lD+O77XTc173KE0F\n",
       "cIOvVj5fVTAMc/zEBHpgG/K270s795f0LhVtqNBOCsnpm2V8729qROj9E2jobGFK6qQFCxtvjfPI\n",
       "t7j2VRvoeqQq9DBjAKQJhe8UOlb4qiuW3255eoPQTbZAXb5Wz+IXs4gwy4zFYVSBGlxlJjhku4Eq\n",
       "XObZXtM0raRv59SQQyOKZVV1opOi3s+OHR0vZdLL6mKjZJ9xMgnMCKv07Rv1S5+Mrz7AglW+U57B\n",
       "QSJS3RykTwB/EjJj78pvfy/DvSla5BhnwR7f+DJIC7Fth9/MR4DJq9AD4+FEoB4Q13B2B9HbI17o\n",
       "9oUReaiGwoZrr5rhU3Bl5Vdfe9AWC/fFeh7mNy6bk2RSSyksD49sltw3dQD8mlyKQdckdhGjVk9P\n",
       "Llk/oWsaysfYXLTGsz1OrXDgf3EBIW2GuivjCo4b+mMpSx0SKSWOFq3X06LdqWau8XmEUKA37pAq\n",
       "KedKFULELW6V0CpXKLytmlgqWsGugWPMKKPDiqABTncMxgxAPS53oCZJR1nq87xbIwSFZ/CBBeHK\n",
       "CKSA4StP8PQpJaflKYkH914amWeSFtJwrzSnofyuiVxdb1J6RSkjrOQoBCC1X/1BcrWPBORqLfCw\n",
       "tJphCKE2Iz8NbmVzthrJiy5AONkvyOf33F5IlxovAhaSCnBhmIYGIPIy3ge+SeE5usclk4sQKWOS\n",
       "dLsrjx+rUM+AZufs3q7QymQaO6z7kUCl+b5dK5psR8/UE7qti2janp0CI4n8CUqLufToiHf0rOPY\n",
       "ARXo988s1+fZen4sHFI36CXDRU2zkbOlUQ8KOYdt6iCvQhualoEgZdqSGjTbJl7f7FFwuCDjhrmf\n",
       "/vWOqArQxAiRaQhfb8VTY2rBONvR3mGeRUwPt/j78RV4XA0EtClQ4CBYls1XLvimNfKvVKcoZIxw\n",
       "z5rfkRU1E6n3ZZDt7O092p9cT9RNnud2NGkDCvOwx/YEt7aV/svy2UordqitIgMBZXzVn7bGQnZ/\n",
       "Wp2meV1ZAAABskGehUURPBD/ABzN8bqy6AAE7Itdeq9pH0M8RZtPgt3W3MXYGpg1CNVXZWUw7b0r\n",
       "1YDwIfEUzjPgSJ199hZIxiGjPMGa9TMlHIhan1Ivfe1Okj2NQgmhcPKfHxTd8aZjDRS3dYR6RzE/\n",
       "cg5REXFUt1A7vt/eOox+9pRJ9NIUWuEl/Vx4BwJT9qHKzEudndMQfnbyNYYM3v6VNIIZAyxH3eNg\n",
       "phcC0dbX52+j2O24w78t22jLuYTVB8EcOpyB+hxZlpTzSUrKvr9FSRqjD3ZurQzj/j9fd5sILLgE\n",
       "XINW1KWOu9+05QC8n/lrtWcVHuYbcQAxL7Ne+7dWjjvTdTbbod/qyfb/GPW333vA6MPPEGsgLMw5\n",
       "y2otp1LAEAI+3k0y17xKxmXNoB6MSjLj1UCzan8qGarBLN1FNbdl9FctYaXBiPHVpzSQ3ucQz4mU\n",
       "86Bd/2mJNPsQPUOXyqcenlw+nBe8Whl38UIfVf3YC/SJr6u7bTDNINHDeK+AkyhsYzzWx3cIFJEj\n",
       "IKNSo/L6V6/BjZoQG4zmkawPkPpjoJLRXRTGIZZgs51v24dFkUJD38a1sOkJAAABkwGepmpD/wCC\n",
       "oQJLN4vItmq9ABOp3nZGVXH2xhOU7P/1zwXrnpiSgTKMG5atKidkKmbwDGSO+/EcNoTznnBzcL79\n",
       "AgBJGPeifNDECcKWp/wIby4pphjQMLYz6Y6n6/zX5tQKIsOpbEMShojFVs8P5964lT/iFZSVhnQw\n",
       "s3BdHBAmAPHYgAqLBYyicEVdXUYiCWEO4lCYBnp0bnVuD8SxzXoYD/rvAucYjP1Xlk+JveFx4RUX\n",
       "bpsFqu6H1PXr9ADfKX11ttzPCrya4TF59f4ZXYPUrNq94S4CSMYyC+GF6MM0vRX+qBvuseFW2pvZ\n",
       "2CCGDSs9vyFaYwWKQjc3ovi6MP0gEkzGL7Z0M8r4kkaRXjibTTG6u54gN8A9NRptqLjFnkQobOg8\n",
       "n+C2BJh6oMUgcVen0mwbsHIeeamldK1DpTJIfRRto6CJdG0pA2szJF9CwxDaX5X+rikgvX+4JXHu\n",
       "7gZuk7xe7kmgSUuhJiDlwc/5ZyNvaJkJKGsdHD6oOOUZ35cqRWo1t5yP+e65O3EX80Y2WEEAAAKX\n",
       "QZqpSahBaJlMFPBP//61KoAXr34PxvIuGOwATscPxYLmPTTkYDO+hSKKP1ncxW7Nshv7bkNMMKd9\n",
       "qT30fb/IXGCHQsrmBo31LlrP9Ty6b2dzPFK3tPKFgkBXn1R/f1aazZNLDZpbpfnqT852Mc8EctYJ\n",
       "FqyBPQxIDFjG6Snb+u1ghN9bhjYz3u1lou+qbyCb+GjwImUIrpgynRWDopfIknY8nXxmGf2vxbzI\n",
       "oy5i/IG9MuO/twpaQdIiZIqcg31FFr0G6w8/Aw7jJHL0yO/Xg2UNfBRDqn6NDA7F9+PPiB7OFXPR\n",
       "902w3asB5XSmbGpXIuEkiCw3SmXSM4IrEKc0uRQqly/I3n4yuKkM+tCMnfsgZ/JCwgP7FjI/7mLR\n",
       "GTJeiuHPYr2wqUfsb+LV6xtIAYB8CP2RlQkJGJEcudZbD/dKLHYGtPZU1/7Jeb7u5HEdRsin5Vcl\n",
       "uSE1xXp4c3CCwiQiJSW3u5CIx4+HQOApAHIHbaBSw+/tlxs0haXpb/z/alujw3kVIkrEg1T+FYub\n",
       "X1Z4xCsBqhW9A1+GG1dUl90DEro4yfezRjHstFJNGjK8A5xICb6drkEPzch0t3g7HG2LRHHc77bm\n",
       "0gQRANETLt9Pf7OaE0LtBvUAl2dzFQdbDcjG4ihGsq9e5qbJEDX4g58G1vuCebq8DelbVscRdfjz\n",
       "F068sASHxZ1vovYhbP2iMhqsn/FS7u7EAch1nNOxWb2YIC5tasQ/kmZSWPDXyNKuj371SjUEPg/c\n",
       "HMmdsKPD9gplvlQlrQhR5Igd6KNJcrcsQZeCF0Q6/OBvX3ZUgRYYKSD3U4KLKxHWV0ypd71E82G2\n",
       "Rcjc6FzaR32U9vJKaiVj8oKs0n10Hw/eL9vhoEnqrpgeUW1AAAAByAGeyGpD/wA91kzFeACankT4\n",
       "Op4OorlP6OkoRhgUe+NkD3WMu+0N/s2FZg/iT47vzdYqySoEl8+GKl2cmMqToT7m5p4J8oo/wyT7\n",
       "/rbeQeP6LF9TwdRTyU/ueX2JKA3soEtmD+BC9scp8bpaRxhBfBNMEXYrAfz5vmeaPsdQIJlCN7V5\n",
       "PJvy0U70oSxxZrmMk9FBz34k2gYKYeH/2M5h1GzBrpOpRWIbY4UplyuK48MSWQ+kA3NzVZ/sbQas\n",
       "aunRMrzzAAetSZRVmODzYE4BdHKsNN7U5gKQpdaRZt6rgxXOwgMFNsTNyfEd7S8gkLlyo1qAPVNZ\n",
       "T0Vtl7KJF8/8aXCe2WMMonDjHcw0060CqC6tLOEeGYSv7JTC46ASbsZkZHd3DfzrEhYTYnqwBzZy\n",
       "wfdt5F+g2VWLh9x/nJxMmk/yWXt0NlwtXm53WOTMcRBoHez3hLQDPS3Yv3OuIxESfu+s4Q+LjfrY\n",
       "E43J55SqKh4Dd4w07TiC2cSTEgmk0nqBUtitpps4xh3QeoRSEcASHqwVyP2ntw4cjHRBFZ0mophg\n",
       "9x9jtm6TlSiM5qBdpPyJAVwLC6jQ9qyipL15hyxpS0M0Gj7j9JMp8AAAAoRBmstJ4QpSZTBSwT/+\n",
       "tSqAFsdvDIsABNXrkBuFFt+k8pNqyMoDpnY2RCHoJuyngRaFHl4irLNUhucHwkHPG/gcVhkI4PvW\n",
       "BUUM54u0FU4ruc8+4iMSkwYxUv866VmmCTTZ3bhQV3Olsone/5cSpHXmndg0DzSXP2FPFfKleBWp\n",
       "I3Xfovy6I6vy45pgKMhuPOaKIybj1bYEGVo/wWrC2MIAmlT7XnMwAEUfPWE60uLXd2/l9WyLOVZd\n",
       "OvKLfiiIaQ5cucw94nqCJEiS4MFlOzMnistz4TGThP7lie/049mCJ/wF4msPzi/XVdkz6AweMKKU\n",
       "6Jn3r2WHhJ1EX5vvx2hYQpc/CNzdHlBPXQdrNsxTlCBf/2VOvPo3noUIMbw+Hv+AY6lLDayt4h1u\n",
       "qc2sM7I32TuguTYtLQgsTg0cG1xOMJLd+7tVwgltr0sNvn3DtyMyMq5/egll+fZSeSTZoeb/mFIC\n",
       "nyRwFVkPc3jfP4773TUHLNZAaS+EJXs5AZeSRE/qa6HP11R1VOAb0v3yhoUHsMDHfwoJh6N2FF8z\n",
       "zZiT1UBNRQqqNTP86/PUnYuob4ZugxRHg0yrNfHp+1HowYeqnzcX5+fyqYXsXumI6XLhhBJ1buRI\n",
       "GuNi1zcKgmcYU+uDbQbXCfnwvYTzuWU503JP+Fsifa3tIxD9F1BoFZkY/hTvI2rDrPGgnRDg8JKW\n",
       "4Rw4Duwc0WOUiIHSrzgfs4Pq2r7mI+3xMote1sauRART/MWWXKy/kjHVSqdE5zITho1UKqLVgun7\n",
       "h2Gxudizf1r0cXt27KVE06H1ZNlJyINd+trT4FcZ+rgheuT4hvBVS2r/KeXL1QASWgr0Jodlm5xi\n",
       "HC7M+wAAAcMBnupqQ/8APG7B4JNXABNSHtcxEB7Ljyk6eiVAOaP1hfw5792/tuS92DtjtZm1XtOY\n",
       "j63bnd8obnoqW1bPthRuI1K9kiVqq7T78XQXhyS3kGCFaN9FHxrLuGmvSJymkWiPvZqdORSHXSfy\n",
       "+cGhzrkJmfneRt3akpw4NsAXFiu/f5g3oKbR0IdJPPgLDNWQ31z/8eJUvHXa+iDdgeXx1+s6cJD2\n",
       "6sX3tcK90w0c5a4CGkZG05G8N7t3NS/B65oC7fNYOhtHM0nLksgy4rxIrDRepWOo67LV+k69pkMo\n",
       "eduHTIEHMDCwiix1FQUkbYvC8eZm9LaxwxCW4yHdAXDTQUanfie0xBNeH5l7+fRKfOiCPmT7ke7q\n",
       "DT4sCZmJWsjPgWUR06i9A6N9ju/evFqrM/egnhfG+YCAhIM9PSM9h5x897N9GoKUF5F6Z9MdDiIs\n",
       "HLQOJEpPRooLwFKz98+yo43t7RyxXL6sg9YS86lZp4obO7KgVICpubJFLS2t7iXY8c3iQC4lTvFe\n",
       "RUsYKSRPyXXbM0jDpURSdj1X4lz1cHyldzIakljsTzw9p1zt0yb2GO/wQ3by1QEEjNMXYufCGggp\n",
       "eJU4AAACnUGa7UnhDomUwUTBP/61KoAW76SCa17WwANHUl//9I2u87NnpCfOjWvHwGEVAEBIAwpK\n",
       "UxCeZlIVnsHqayaIMDXu0htKyLNNlQc0P4kCreSuC3qfNBzeGLJTmWIAppcG6to1fvTslZHRUdce\n",
       "03e7EmA7ZVi6aPTVgPnEg3SIfpcRdn/UsPX4pgrbMVSUN2fhiWDyFukqWSpIA4RPj4Cpe5YIxvee\n",
       "yW7qqc6SJNAVkBEDjlvyeQw6vw12gprab7LBlu30pwdRdvyXMVYWjgHdi6LsRz18q+Vcg9qtIUbn\n",
       "MNu9nT2E2xQ3VGeojdjSg/SSTXxuxKNrT+GnuhdvjF6HH8GtimI1MctwnBkmAH19ALWB+UuuCCuT\n",
       "rRBiYdbD2qE+3sCkrDxCE6iX1rpHrW3FD240rY779SfF1JXTucnZWxSfAdt505uvq7ENnAilAQmx\n",
       "VY5v4owdERsLtm7tOVN+/UNTMsHfuocJBYfRdtidVQ4L3M9Hi8ZLAwJgzIF7YXSPxBzShqkWMh/H\n",
       "xE5WdMPNze9h44+TlH6C47pLatDzuCFqC/OK57zRD/EjoZmQ/sYsnDB9h9shMkcDEpgBqiSnDYzV\n",
       "mAtYCZatpqAzPHwYU74+MjEJnpT4c/unQFMrXfGU6ClQFRLvj2s644A+0Dpzip9fP9EbtSs8mkcz\n",
       "QCetclkuTGkIJZWOP13QnXOVFhKRKCRD41C7MR8+oq4mnmAK8V6C0atXZzwzTrYK+aexxuH3G95N\n",
       "JNrp/vT8IHuZaS8FNJGv/NkOtD7b84P4TP3fGo1GVJEo0M/IyUdqGCHJUa7hRdoBMg+lTTQz7YMD\n",
       "zIpd2/Xrn5Cszxb5m1zlAfAQmZBw41Yqge9oiE5RqNz9JtE5aKch9Jsld7DPr7GRmAAAAdABnwxq\n",
       "Q/8APHhAXMiaxA4ATUpA99Zncw6oMiDZJYcd9Kcxpm/bPVsg0OZaOjfb2P3pHvNo5ikMOeFRMPWr\n",
       "gsBc3ZqsruLodID3Qx4NPQkR9dPVTjoVPGKMb1H0sOORFfQ7tuPO/17n2BefDuaPTaFUb5WXBNDW\n",
       "Xs/CGikohPyZdXKutRZr9ir5L/wn83qsrSoeQVspt7yE8TlI50EFkGzqNnjGVQMteUFTPDjx45U3\n",
       "m8v/XiP4ZAfcTA0YfXedKQxX9LJr5dYc7n6UHVmOqHy3uBc1nN8Uhu/eYOICrB2asVAZb7dlfkm5\n",
       "3xDRY2GM9NOJBpr9C6oN8iFhh66QXWHTOwHzPFUR7l8Aq72toYqYf44Xdyt/J8xsuAgAHfyvO6uq\n",
       "m633/Vx9vA7bc27euaAg2DW2FZm4LSG3mnv/WNF93/58z6inyc6mWpK7XSJ/mw1KenzAacCwMQuk\n",
       "7Nac3vXWx+aI1U3S+UvGFKL1wOAR8+cmK6NlDaTZP0Is9BWjAuJYPPBTP4RK8xw0LOktB+qGHXjM\n",
       "PkW74SVQE1p6OD2VjD8Api2TLJs7mLgEwBJ1OmJqtxV+QQW1jM28DSXwDU4mpvie7wp8dPGZdYOi\n",
       "qO21UQAAA0FBmxBJ4Q8mUwIJf/61KoAWP50+8kaxm8y7agAhS93sl3TUkKYgtjFCv/IDtmM2ZLml\n",
       "kfvzWMan+G3cKqq4+/KvnaNCt3TQFQ0fS5/1LJL7YeVBtRzOTEWJ91mJp5EjH/ZmCDYAjm3OQfdR\n",
       "C9SVQ+xa4E/ZDH4w+v/vxecS6hzzhEfd0gB4AarZ0NR6mrZCt3nBHnmEjb1Dm3ZTM65iaG1KOzG8\n",
       "bOUBUba7bIknsPE+UKH+labGJyoCdAIM9LRHEs2Gl0DehaBYGz42R/h8wZ7KqQEgxi+QJM2c5eC3\n",
       "Aft0ldbqCyR9h4Wdug7KoDQTk66nPs2hEoZo9Nm9Bf4SmIMg3fQo3hIer6owkZ4mCRwnj8whHjbc\n",
       "735cU6Anaeuz1162K9EspScMVkXeD73qw40neLa1RgVnNCt6gPIXB5gffwv75U+qBH9ahkI14121\n",
       "/y6hpfZP+K+svlOtv98dJo5x/OeNPOW5uo/H9blJnmNg5+U1zuwlFmuuOC/JP+zqvht5c6rjSD6c\n",
       "BhsP/BC1F/rhiXJrlWLBtFDbT6ocATRPBPIJa7hgLVywraLPb2dDK0f3deLGCrN0gNYXauqETZ/O\n",
       "9Gy7fF2GrbhCPjXifkoRHJgCLYQcB1/gu1sRUMMM/XP5juG2Wjols8pWQjWIkEBJxRwG1FgCLK29\n",
       "u5QHxOexQaiPlmTLhfXgcGvfXIN9B8kP+Y0kB163ENgbMIY7C8A+hcilwpEJBzrJuJ5o+idvQIvi\n",
       "yaA8/yFYTb+u9E/CNj8vNLdQ7FqIHqayLvX5eidwJunks1lePsy+l644rP5oUZdMmg0xyobr/4oM\n",
       "Q2HB4gR2lLCry8TfeNE15yMGJDUCKFo3OFnZ7shAkBwaeAf20Df+oyHLSklxZDCsF3WADHk166pm\n",
       "TsSmUulTfgo/KIBuKv5XjAF+8mlwY8ajU7nRDcpgGvmUP0wxsU9R4JCF1oWUlSPLUAalz3Jbz6+r\n",
       "h8ioN+incaqV/UbDLChhPd5SvoTAx2Dpxb+esO90CfBEG5DqnWn+sWBzm7/XuFTi7jXfPF8yl+9F\n",
       "P1Kc05rMLfx/lABd/TD/79+jdAZBZZsghs9xvpJNHjGR8zsUft437T/c5wAAAWdBny5FETwQ/wAa\n",
       "0MrdqK68fXNku9dF98AIUCgKXmjwFcOAZp7nDeOlolhV53BZT1fMk3Z2v36pmmOB5Tt1JGk2Ujnq\n",
       "tLap/W6Fyl+mciEt0ONdSHcaSRxWoRJsU92S0ZifqRVljMXj10D0FBjZLgxvyO0F0pbfBDPi1/f+\n",
       "EMtkPz+mi+XcQIJNYDMFUF/EEDjglH+3xOraCj50n5UMamKtW7wnRTnswZmNQc7Vm5UWqOHOc/nP\n",
       "SMuGskQ6jCn5wkAEnZQZnH3uy5+LticO67r7coOlxnj+zQMjDHbuWWVu8qGWu4w1XlEezSP/GTft\n",
       "eEF9ZHa7AFi+NReeQLeVRO+aDmxMh5sqHxtq9O58pl4hA9F4am0n9DsN0rcp4BIU/eHjF1YczGqG\n",
       "iobkMGMbmAP8GzBa0RJnb7Kf+kaxjHqsAM4HRfo8GOtJVZdvrim9qnqDtWyzBnN5pBKBwkKuhw65\n",
       "aHadN63ntwAAASwBn09qQ/8AeDjw0PicK9HBOhABOmRlI2/+cgHpDrZdArFOfglJ1an/3m2FkEFD\n",
       "F066ymQCGZ9ZV6DqI31caxZ/HkKNaX3+BQLe2gu6FQeUneOdflmXN4O1oxn8fSxe2bMuV+/PwebL\n",
       "3G5fND8nRgTcQF6cmfTouikdNqugb6XH75vSq7p58/iwEBC4/eTbcULP+tmxtb8uJOXKxFdsdeRg\n",
       "KWRJYMJTRNh4R9giTgR+HRRMU0avxWYZorjjhL3kICweQm/16wCGXRlB6LiK4aFBEFlpREXyqQvf\n",
       "H6xZn2CdI/u40LnUg1Zsxmqddz/K3hvjt57Wu35tFCZBntNzchowopSHiOQyct0j1Lslqq6ZcOl1\n",
       "uv4MESCeVgRUFKIPlxE+fHyuU4D30Tus6IAAAAICQZtSSahBaJlMFPBL//61KoAVZ3GTKUAE7cMA\n",
       "09qbcEWl7+Ecxxz/Xwyv0L57/27coGpQ4FLv07pE2ov1MeDwi3ihJtEIpF1X/O4eClGOYwFU8GrZ\n",
       "D73Vmz7Myp4KYrL4Z9OFnz3I97qsrDSlfw4wdFWYYJ1GQDlvJnHxNyHynqlanavrDOaOxJOGwTu3\n",
       "pDbdiBnwZI/HjzuAOzk6VjibpYNSwDja1E/BxzpmvVxAmTAn+K+HAd4TXj7B/JnvHYpbjTJDYmgc\n",
       "+gI5DKRvQm2YuPZ+h1POI8ZPGM/xjenGdmlTPwTBz+Ku7CkKvN0fSyR9cE0AI3ywgTQcFvTEsLxD\n",
       "rGCWF3nWq6gWyLtzJczEg6nmMfsbuWp+FBNM6pTG6ZBAHMq6OcmoPKCRKRTbz15iZX6WBUUSJwv4\n",
       "eZqqBt5n9LCg8yLlt6P+HfdFi926BlZBfGkZTAoVTn75D433tl388EdDuGerTlvLJSVcOmRSsrAM\n",
       "fhbczWPriHoMy7XsfBOR/yTEVhXOrAz0xgIiZpUgpobfDvMab4S40q/EW/kRUVCL2/XDEpSPBy1V\n",
       "pJolNAOnDextJ3SMhe6U7h2uvU5yofWAdbOU1dEKAl5Gs7Q18TojzVndq6abk+rAKAmNLZKt/yWB\n",
       "U9G0rnEF9U6Y81WZspXTVfSOi6ikolzuNO7GRpf+QAAAAfIBn3FqQ/8AeEZaW+u+b19FABOkQrtd\n",
       "7souU11/CS4uM3NcEgZrLUu9MyArMTTHZlQtJsm5mDOy+vfuYm2CmdHCmQ7a3PzV9zrpeGVCXkZk\n",
       "maiL5Cpul6x17sRXJK9Zuc3Q61e1nCu4tTaBev18hAMu+7SvzncMpzqXXQR4KYwhuQNwd5rQ4y66\n",
       "WEtmD0MkPEFM26G2DsJH/VXmLHq+n+uDs7KQvGPTPURG/IYYaPmmdWhH/LF5X3fAfUg8p1BvaTIC\n",
       "P8/c0EmMEsYXX0jaLtZfqcCK40WJSYccLE7qwACbAy2sUdQ8qwOzwAA1JZzVeOq7Li7HBRYzuNv2\n",
       "o1OaIhcdAGaVTcyT9lEkqhcPYbnLFSaY+748He5LwI+lohK8D+cRpsakQ9ah9iemOHKiaX4Q0s8c\n",
       "xXf+rCAce6s3yEXQhO+yZq3/YCHrzvhN3PgrPxQv1Mg29QIJuF9MdtGvuWIcOZXhRuanqnqBnJCD\n",
       "KJCDYKMmjdfUz/M6Oa6D7v5cZE6tsob+LWb4KfEWHI4oMG09UYji4raNrlGjiX4cQzL6cP22u1Ps\n",
       "/7dGxpIAZjUorkQyTPeaMt/YbYFlHdd9qLzSKYXxflyTBsAfSLl8fIBF+ES4iFsBdb2FIvu+5V08\n",
       "PUAuMjH4nbdrjKlmRpcXBz6kpuEAAAH7QZt0SeEKUmUwUsEv/rUqgBWPnT6bLAwkdwAbSxleKI92\n",
       "NcfWLDgdGe4VwTKCDE2gYTNa6/mmY7euw+oBAAOfopBGr73OtoyyBE2w1Hea4VqXcHoUJH0kISGW\n",
       "IyXIgFOyHap29Wbo3bBq/L4CRT7DTeiB6eIPfKwSrYlVH8iLqXPgUf5nNulUU5B4ZlvNWVC1H1YG\n",
       "7PXs9/vuDUlcK/TLpz233fPBtQRX7LR5bGl6qi/n5yeoKo4yOx4L6Pl1rvz/ljU2GtekOZSQakV9\n",
       "n0ZjO1fGAEpiydBEqvocBaxpQbZGHB3aHDKLTiZetHiEF8oofukSc+N6ckcTW3HMTmX8yk8EYMUQ\n",
       "4rwyAy1uaJ//n424s+ilZBO+X7Npr+1wrNKX7t6T+r827kPPd8VO76z7AYnWXnhKGkSAwEG/en+9\n",
       "ErzhETEubr8v4Cb3JSmihB5QjXMbdRQVT0/GlgDFJecpDqIZpme3lwPUv+VvNAEiUF8vii+G4NnK\n",
       "Al4m2EurpPh8WK6uPRNcrLfImilfW3o86tLJat6DKdTdD9iwUYyTb3W7pAHKHdCsCErcK/A1V/XY\n",
       "aKwZ0D1ocPqA/83bnHeRtEUynrl1MrbnIEkkGxEDe7SvfNEejLABgvBPn7MAnNgWKegODgkZQNt4\n",
       "iYwaNtqy1EJMzJOpwxs1progAAABwwGfk2pD/wA5uC7i+H7ctiACdpHg+7dhTfIubZU5rDowTbRH\n",
       "HDi7exXckfE8vWmbEAKoQxBGnhqWTrDatFPutNVOx0i/KMw+nEVA134a2MJr+x5YW0qZuhtb0iQz\n",
       "mmPS8EXZhbwkZAuy++gzFF7HJeCUhdcpgXXJJ/9FBY9Juh9SXGEfETDbvidRjEYCNdhkFkytWUYb\n",
       "tMsDPH/BCtXEKtG9wmU4k2GkGJzDwU+Txkg7ODjEEGawutis+HBTHF/sw0MvaExrlFaC8uNs9mrj\n",
       "3935JhyAr6vULaSgkiRepkLOgP0jRXNyHMWPn3lWJGTK9eQ1gBIyGctPoUduSSKi8E+UdHj85hnD\n",
       "b+4+FEeTcYIHPzwyopuFbHwU++Qr35iXHDj8W/rORhGit/+vj28lxKilZUcG8zBeD931n+mPQ4qp\n",
       "hRX0aAzRt+IDwkWFazFOFP34PQtqIuHr9pm18NeQz6Lth5AnFDBjLMlFJag+5yCslYRGdNJMB43d\n",
       "duPNQK7P3TEy94cSmOXOketBMXJujc6OpodaEzDcl3ZZJkk6gh1zuJ2w76pmGN8Jg8X5wjQ7RrGb\n",
       "GBN37v9n1SnNNjFReE/F/pYAAAHDQZuWSeEOiZTBRMEf/rUqgBTfn8U88MiON+nCw0bdBvfdaygw\n",
       "3dm8nyGLDl6ai0accDG3Ov8UkvupZqkFSKLOTMbEK2ftXiO4F87cHucRUwsrZc+8GPooTu0Va6LB\n",
       "DnaczEWMfWQj/8QkSNTFJtdefVCfTHRYijXCYrbVaLkJafmTCKOWKuXH76dptqPqw6jtVesT3eD3\n",
       "laX/kNjETV1hN7JW/BHtCqX/gCXAGii4P4i5h/SDwWeC4Rrp2GMcpn+pLxFT7vsQXfWuYMMzmpPE\n",
       "NyB+BEYBsE855Kx6jg2/83nVvd08t6rm2Ash2Y6thZ+zrmz0oj90gCEMweML8O1gHN+csFePSFhL\n",
       "rpLhnjUAAtC637CrqMeOvuIb8Rx2pnW1z1nE2PttqJwSO3At62bAl4cqencOe6aph/x6c9pKoFec\n",
       "E95i1KuqeXlmn/Roigzomt+3C8oA8Vk5A0ODIZcR9fWGxGWHvmMVXH2YpzoVg2b9F2OVHKhXuJoW\n",
       "fiM+Jc5bggXt3eePUd54cS2RR5A8Z3zOQkQWRHJVbOu8kMyBZz3a6Me3Yfrgvqe23IO0EYMAqDRl\n",
       "oY3ZSV6mR8r18fl7qMNuDwAAAZ8Bn7VqQ/8AOFhNYQd8VACMqSXMMAqnSl7ApUYLXqBgSoekjElA\n",
       "nsEzE3yugFnga6adI3R7HZndgdOpC+zYm/W81naV0SitB2wX2UC/eC+7oztMlCNTUZ64LldDQeFn\n",
       "w0nGWv83kS1cS5hBafeY3n/IHMOI92MDAguvuwU/WaOazk2MYnfsEyE0YHRZr+7hc52HXAEhRZlq\n",
       "40OCFAC0b6EQ/PThmMdOyDWI5o9e4fQZCo5nl5aovEDS14KVgUiOoCfMvSPeglX4oaJsbVkzqAgX\n",
       "9jb3MTjagS1VlgM6li398kX9hGLny9gt6F3+OuJnRoO9exByDtB6opUp+rl7U5Lrb5zBaLLzb7ut\n",
       "wWGM4FQlYMM7HvGo8YDMZedLH+fs1DCeeVntW/y7/80jWBSbyGMjZ7/1r2d5EjfpXsEE6rI4Ztsc\n",
       "iA9Ius18luZpQFSrvhvpAm9/qKbxW/UDsRE8izJNT0zHQv0orEbpY2w/rmVzC0C1CUUY2Dr3bmBj\n",
       "LVywDp1VoKigojqkhWCyNa60Gt68+ANfqs0+nWe2JFgHDCkQAAABIEGbuEnhDyZTBTw///6plgBQ\n",
       "jAGorFnJQAbtevGgTOKDqKi+MvrqKP8MUFADU85F6OmedOIxv5hlZFYvKyVn2JT//TfFw/FWE54E\n",
       "MDf+SbzsH2H2zy2BXsHF89Ma88d3d7F6mXoRLt1vrpzdjjc39mEi/6t3sRRf13ZnXKN+LLf4Llwk\n",
       "cFSGxM8RAgUoVMyShVJK7f4xudgH8CbaVu3UB0EkakchgDYIxFGh6lXJgjrnu1MpN6u3OomIwrWy\n",
       "AzHtrlVRIZjqSrZ2eLHgyxSZQiq8LO1fZdGj0pq6/gu6sZ5wYBjCVcISqk6FNOWcGAFe7Fiq/A0l\n",
       "zHnSkfKFpwJuz3tKf6/c64NXZPg+hvGN4w9p6sKYRFO7gISZTj64AhFWdQAAAaQBn9dqQ/8AG++V\n",
       "WQi+jsg5UeAC3TNJD+1a/dRavLeeNsfiUPiw+9puZ/lKa5l89vnBR+bykhZPjb1JCs0tisBNen4Y\n",
       "ZTMTY4AIEdfd69FjiT3WllrM0TNceYeREHyfdO+gOy3RbAltg06bURKtq5EXszVb9T9Ect+4i6bp\n",
       "8SfIZABbELzmSeZwi8mdG9o9oGn8UfJbC8Pb3qppwJWmDJikoS8XcwSXjQdK+iINcAzjjDanMJmY\n",
       "18+mGl4XkyGU2h1rYDpmqwdZs4Q7PAISXRSPWYqwtuE6IhoSyca3Nhxh+Jk08SclnWrWyGzSBmCI\n",
       "nZjGHIAjLhGgKFsmozM/orqUc/wOhdTR25VNbI/REybTkZwhc1iyMa70mH4InUXLm6JtCeacEEE0\n",
       "bvrCThVj+5567rw0sebrUD06iRv81QUerrxxgK9gonDyd+3GquRWoy94Gpt/jnQM7MHliQj9mnT4\n",
       "uMxwve4PGxiQYcct3B3041BL15b3HbANxYpVFNqcAn/nXlLCmgNd8AqxDjvFdC7vw1Gw574iSH6j\n",
       "cnsGx/8QFZuUZsEAAARKbW9vdgAAAGxtdmhkAAAAAAAAAAAAAAAAAAAD6AAAE4gAAQAAAQAAAAAA\n",
       "AAAAAAAAAAEAAAAAAAAAAAAAAAAAAAABAAAAAAAAAAAAAAAAAABAAAAAAAAAAAAAAAAAAAAAAAAA\n",
       "AAAAAAAAAAAAAAAAAgAAA3R0cmFrAAAAXHRraGQAAAADAAAAAAAAAAAAAAABAAAAAAAAE4gAAAAA\n",
       "AAAAAAAAAAAAAAAAAAEAAAAAAAAAAAAAAAAAAAABAAAAAAAAAAAAAAAAAABAAAAAAbAAAAEgAAAA\n",
       "AAAkZWR0cwAAABxlbHN0AAAAAAAAAAEAABOIAAAQAAABAAAAAALsbWRpYQAAACBtZGhkAAAAAAAA\n",
       "AAAAAAAAAAAoAAAAyABVxAAAAAAALWhkbHIAAAAAAAAAAHZpZGUAAAAAAAAAAAAAAABWaWRlb0hh\n",
       "bmRsZXIAAAACl21pbmYAAAAUdm1oZAAAAAEAAAAAAAAAAAAAACRkaW5mAAAAHGRyZWYAAAAAAAAA\n",
       "AQAAAAx1cmwgAAAAAQAAAldzdGJsAAAAs3N0c2QAAAAAAAAAAQAAAKNhdmMxAAAAAAAAAAEAAAAA\n",
       "AAAAAAAAAAAAAAAAAbABIABIAAAASAAAAAAAAAABAAAAAAAAAAAAAAAAAAAAAAAAAAAAAAAAAAAA\n",
       "AAAAAAAAGP//AAAAMWF2Y0MBZAAV/+EAGGdkABWs2UGwloQAAAMABAAAAwAoPFi2WAEABmjr48si\n",
       "wAAAABx1dWlka2hA8l8kT8W6OaUbzwMj8wAAAAAAAAAYc3R0cwAAAAAAAAABAAAAGQAACAAAAAAU\n",
       "c3RzcwAAAAAAAAABAAAAAQAAAMhjdHRzAAAAAAAAABcAAAABAAAQAAAAAAEAABgAAAAAAQAACAAA\n",
       "AAABAAAYAAAAAAEAAAgAAAAAAQAAIAAAAAACAAAIAAAAAAEAABgAAAAAAQAACAAAAAABAAAYAAAA\n",
       "AAEAAAgAAAAAAQAAGAAAAAABAAAIAAAAAAEAACAAAAAAAgAACAAAAAABAAAYAAAAAAEAAAgAAAAA\n",
       "AQAAGAAAAAABAAAIAAAAAAEAABgAAAAAAQAACAAAAAABAAAYAAAAAAEAAAgAAAAAHHN0c2MAAAAA\n",
       "AAAAAQAAAAEAAAAZAAAAAQAAAHhzdHN6AAAAAAAAAAAAAAAZAAAUDAAABQoAAAHwAAAC/gAAAgQA\n",
       "AANyAAABtgAAAZcAAAKbAAABzAAAAogAAAHHAAACoQAAAdQAAANFAAABawAAATAAAAIGAAAB9gAA\n",
       "Af8AAAHHAAABxwAAAaMAAAEkAAABqAAAABRzdGNvAAAAAAAAAAEAAAAsAAAAYnVkdGEAAABabWV0\n",
       "YQAAAAAAAAAhaGRscgAAAAAAAAAAbWRpcmFwcGwAAAAAAAAAAAAAAAAtaWxzdAAAACWpdG9vAAAA\n",
       "HWRhdGEAAAABAAAAAExhdmY1OC4yOS4xMDA=\n",
       "\">\n",
       "  Your browser does not support the video tag.\n",
       "</video>"
      ],
      "text/plain": [
       "<IPython.core.display.HTML object>"
      ]
     },
     "execution_count": 22,
     "metadata": {},
     "output_type": "execute_result"
    }
   ],
   "source": [
    "def convection(n, u, u_old):\n",
    "    u_old = u.copy()\n",
    "    for i in range(1, nx):\n",
    "        u[i] = u_old[i] - c * dt / dx * (u_old[i] - u_old[i-1])\n",
    "        line.set_data(x, u)\n",
    "\n",
    "u_old = u\n",
    "anim = animation.FuncAnimation(fig, convection, fargs=(u,u_old), frames=nt)\n",
    "HTML(anim.to_html5_video())"
   ]
  },
  {
   "cell_type": "markdown",
   "metadata": {},
   "source": [
    "OK! So our hat function has definitely moved to the right, but it's no longer a hat.  **What's going on?**"
   ]
  },
  {
   "cell_type": "markdown",
   "metadata": {},
   "source": [
    "Learn More\n",
    "-----\n",
    "***"
   ]
  },
  {
   "cell_type": "markdown",
   "metadata": {},
   "source": [
    "For a more thorough explanation of the finite-difference method, including topics like the truncation error, order of convergence and other details, watch **Video Lessons 2 and 3** by Prof. Barba on YouTube."
   ]
  },
  {
   "cell_type": "code",
   "execution_count": 6,
   "metadata": {
    "collapsed": false,
    "jupyter": {
     "outputs_hidden": false
    }
   },
   "outputs": [
    {
     "data": {
      "image/jpeg": "[encoded data removed]",
      "text/html": [
       "\n",
       "        <iframe\n",
       "            width=\"400\"\n",
       "            height=\"300\"\n",
       "            src=\"https://www.youtube.com/embed/iz22_37mMkk\"\n",
       "            frameborder=\"0\"\n",
       "            allowfullscreen\n",
       "        ></iframe>\n",
       "        "
      ],
      "text/plain": [
       "<IPython.lib.display.YouTubeVideo at 0x109643710>"
      ]
     },
     "execution_count": 6,
     "metadata": {},
     "output_type": "execute_result"
    }
   ],
   "source": [
    "from IPython.display import YouTubeVideo\n",
    "YouTubeVideo('iz22_37mMkk')"
   ]
  },
  {
   "cell_type": "code",
   "execution_count": 7,
   "metadata": {
    "collapsed": false,
    "jupyter": {
     "outputs_hidden": false
    }
   },
   "outputs": [
    {
     "data": {
      "image/jpeg": "[encoded data removed]",
      "text/html": [
       "\n",
       "        <iframe\n",
       "            width=\"400\"\n",
       "            height=\"300\"\n",
       "            src=\"https://www.youtube.com/embed/xq9YTcv-fQg\"\n",
       "            frameborder=\"0\"\n",
       "            allowfullscreen\n",
       "        ></iframe>\n",
       "        "
      ],
      "text/plain": [
       "<IPython.lib.display.YouTubeVideo at 0x109643e10>"
      ]
     },
     "execution_count": 7,
     "metadata": {},
     "output_type": "execute_result"
    }
   ],
   "source": [
    "YouTubeVideo('xq9YTcv-fQg')"
   ]
  },
  {
   "cell_type": "markdown",
   "metadata": {},
   "source": [
    "For a careful walk-through of the discretization of the linear convection equation with finite differences (and also the following steps, up to Step 4), watch **Video Lesson 4** by Prof. Barba on YouTube."
   ]
  },
  {
   "cell_type": "code",
   "execution_count": 8,
   "metadata": {
    "collapsed": false,
    "jupyter": {
     "outputs_hidden": false
    }
   },
   "outputs": [
    {
     "data": {
      "image/jpeg": "[encoded data removed]",
      "text/html": [
       "\n",
       "        <iframe\n",
       "            width=\"400\"\n",
       "            height=\"300\"\n",
       "            src=\"https://www.youtube.com/embed/y2WaK7_iMRI\"\n",
       "            frameborder=\"0\"\n",
       "            allowfullscreen\n",
       "        ></iframe>\n",
       "        "
      ],
      "text/plain": [
       "<IPython.lib.display.YouTubeVideo at 0x10964b470>"
      ]
     },
     "execution_count": 8,
     "metadata": {},
     "output_type": "execute_result"
    }
   ],
   "source": [
    "YouTubeVideo('y2WaK7_iMRI')"
   ]
  },
  {
   "cell_type": "markdown",
   "metadata": {},
   "source": [
    "## Last but not least"
   ]
  },
  {
   "cell_type": "markdown",
   "metadata": {},
   "source": [
    "**Remember** to rewrite Step 1 as a fresh Python script or in *your own* Jupyter notebook and then experiment by changing the discretization parameters. Once you have done this, you will be ready for [Step 2](./02_Step_2.ipynb).\n",
    "\n",
    "\n",
    "***"
   ]
  },
  {
   "cell_type": "code",
   "execution_count": 23,
   "metadata": {
    "collapsed": false,
    "jupyter": {
     "outputs_hidden": false
    }
   },
   "outputs": [
    {
     "ename": "FileNotFoundError",
     "evalue": "[Errno 2] No such file or directory: '../styles/custom.css'",
     "output_type": "error",
     "traceback": [
      "\u001b[0;31m---------------------------------------------------------------------------\u001b[0m",
      "\u001b[0;31mFileNotFoundError\u001b[0m                         Traceback (most recent call last)",
      "\u001b[0;32m<ipython-input-23-ddce439eb638>\u001b[0m in \u001b[0;36m<module>\u001b[0;34m\u001b[0m\n\u001b[1;32m      3\u001b[0m     \u001b[0mstyles\u001b[0m \u001b[0;34m=\u001b[0m \u001b[0mopen\u001b[0m\u001b[0;34m(\u001b[0m\u001b[0;34m\"../styles/custom.css\"\u001b[0m\u001b[0;34m,\u001b[0m \u001b[0;34m\"r\"\u001b[0m\u001b[0;34m)\u001b[0m\u001b[0;34m.\u001b[0m\u001b[0mread\u001b[0m\u001b[0;34m(\u001b[0m\u001b[0;34m)\u001b[0m\u001b[0;34m\u001b[0m\u001b[0;34m\u001b[0m\u001b[0m\n\u001b[1;32m      4\u001b[0m     \u001b[0;32mreturn\u001b[0m \u001b[0mHTML\u001b[0m\u001b[0;34m(\u001b[0m\u001b[0mstyles\u001b[0m\u001b[0;34m)\u001b[0m\u001b[0;34m\u001b[0m\u001b[0;34m\u001b[0m\u001b[0m\n\u001b[0;32m----> 5\u001b[0;31m \u001b[0mcss_styling\u001b[0m\u001b[0;34m(\u001b[0m\u001b[0;34m)\u001b[0m\u001b[0;34m\u001b[0m\u001b[0;34m\u001b[0m\u001b[0m\n\u001b[0m",
      "\u001b[0;32m<ipython-input-23-ddce439eb638>\u001b[0m in \u001b[0;36mcss_styling\u001b[0;34m()\u001b[0m\n\u001b[1;32m      1\u001b[0m \u001b[0;32mfrom\u001b[0m \u001b[0mIPython\u001b[0m\u001b[0;34m.\u001b[0m\u001b[0mcore\u001b[0m\u001b[0;34m.\u001b[0m\u001b[0mdisplay\u001b[0m \u001b[0;32mimport\u001b[0m \u001b[0mHTML\u001b[0m\u001b[0;34m\u001b[0m\u001b[0;34m\u001b[0m\u001b[0m\n\u001b[1;32m      2\u001b[0m \u001b[0;32mdef\u001b[0m \u001b[0mcss_styling\u001b[0m\u001b[0;34m(\u001b[0m\u001b[0;34m)\u001b[0m\u001b[0;34m:\u001b[0m\u001b[0;34m\u001b[0m\u001b[0;34m\u001b[0m\u001b[0m\n\u001b[0;32m----> 3\u001b[0;31m     \u001b[0mstyles\u001b[0m \u001b[0;34m=\u001b[0m \u001b[0mopen\u001b[0m\u001b[0;34m(\u001b[0m\u001b[0;34m\"../styles/custom.css\"\u001b[0m\u001b[0;34m,\u001b[0m \u001b[0;34m\"r\"\u001b[0m\u001b[0;34m)\u001b[0m\u001b[0;34m.\u001b[0m\u001b[0mread\u001b[0m\u001b[0;34m(\u001b[0m\u001b[0;34m)\u001b[0m\u001b[0;34m\u001b[0m\u001b[0;34m\u001b[0m\u001b[0m\n\u001b[0m\u001b[1;32m      4\u001b[0m     \u001b[0;32mreturn\u001b[0m \u001b[0mHTML\u001b[0m\u001b[0;34m(\u001b[0m\u001b[0mstyles\u001b[0m\u001b[0;34m)\u001b[0m\u001b[0;34m\u001b[0m\u001b[0;34m\u001b[0m\u001b[0m\n\u001b[1;32m      5\u001b[0m \u001b[0mcss_styling\u001b[0m\u001b[0;34m(\u001b[0m\u001b[0;34m)\u001b[0m\u001b[0;34m\u001b[0m\u001b[0;34m\u001b[0m\u001b[0m\n",
      "\u001b[0;31mFileNotFoundError\u001b[0m: [Errno 2] No such file or directory: '../styles/custom.css'"
     ]
    }
   ],
   "source": [
    "from IPython.core.display import HTML\n",
    "def css_styling():\n",
    "    styles = open(\"../styles/custom.css\", \"r\").read()\n",
    "    return HTML(styles)\n",
    "css_styling()"
   ]
  },
  {
   "cell_type": "markdown",
   "metadata": {},
   "source": [
    "> (The cell above executes the style for this notebook. We modified a style we found on the GitHub of [CamDavidsonPilon](https://github.com/CamDavidsonPilon), [@Cmrn_DP](https://twitter.com/cmrn_dp).)"
   ]
  },
  {
   "cell_type": "code",
   "execution_count": null,
   "metadata": {},
   "outputs": [],
   "source": []
  }
 ],
 "metadata": {
  "kernelspec": {
   "display_name": "Python 3",
   "language": "python",
   "name": "python3"
  },
  "language_info": {
   "codemirror_mode": {
    "name": "ipython",
    "version": 3
   },
   "file_extension": ".py",
   "mimetype": "text/x-python",
   "name": "python",
   "nbconvert_exporter": "python",
   "pygments_lexer": "ipython3",
   "version": "3.7.3"
  }
 },
 "nbformat": 4,
 "nbformat_minor": 4
}
